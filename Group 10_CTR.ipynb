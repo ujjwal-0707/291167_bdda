{
 "cells": [
  {
   "cell_type": "code",
   "execution_count": 8,
   "metadata": {
    "_cell_guid": "79c7e3d0-c299-4dcb-8224-4455121ee9b0",
    "_uuid": "d629ff2d2480ee46fbb7e2d37f6b5fab8052498a",
    "execution": {
     "iopub.execute_input": "2021-01-16T11:27:04.958389Z",
     "iopub.status.busy": "2021-01-16T11:27:04.957715Z",
     "iopub.status.idle": "2021-01-16T11:27:05.945391Z",
     "shell.execute_reply": "2021-01-16T11:27:05.944748Z"
    },
    "papermill": {
     "duration": 1.023999,
     "end_time": "2021-01-16T11:27:05.945517",
     "exception": false,
     "start_time": "2021-01-16T11:27:04.921518",
     "status": "completed"
    },
    "tags": []
   },
   "outputs": [],
   "source": [
    "import pandas as pd\n",
    "import numpy as np\n",
    "import matplotlib.pyplot as plt\n",
    "import seaborn as sns\n",
    "sns.set()\n",
    "import random\n",
    "\n",
    "#Pandas is built on top of two core Python libraries—matplotlib for data visualization and NumPy for mathematical operations. \n",
    "#Pandas acts as a wrapper over these libraries, allowing you to access many of matplotlib's and NumPy's methods with less code.\n",
    "\n",
    "#Seaborn is a Python data visualization library based on matplotlib\n",
    "\n",
    "#Python Random module is an in-built module of Python which is used to generate random numbers. \n",
    "#These are pseudo-random numbers means these are not truly random. \n",
    "#This module can be used to perform random actions such as generating random numbers, \n",
    "#print random a value for a list or string, etc."
   ]
  },
  {
   "cell_type": "code",
   "execution_count": 9,
   "metadata": {
    "execution": {
     "iopub.execute_input": "2021-01-16T11:27:07.741410Z",
     "iopub.status.busy": "2021-01-16T11:27:07.726163Z",
     "iopub.status.idle": "2021-01-16T11:28:41.963131Z",
     "shell.execute_reply": "2021-01-16T11:28:41.963731Z"
    },
    "papermill": {
     "duration": 95.98918,
     "end_time": "2021-01-16T11:28:41.963893",
     "exception": false,
     "start_time": "2021-01-16T11:27:05.974713",
     "status": "completed"
    },
    "tags": []
   },
   "outputs": [
    {
     "data": {
      "text/plain": [
       "1"
      ]
     },
     "execution_count": 9,
     "metadata": {},
     "output_type": "execute_result"
    }
   ],
   "source": [
    "random.seed(5566)\n",
    "num_lines = 40428968\n",
    "sample_size = 2000000\n",
    "skip = sorted(random.sample(range(1, num_lines), num_lines-sample_size))\n",
    "skip[0]\n",
    "\n",
    "# A seed is used to set the starting point for generating a series of random numbers. \n",
    "#The seed sets the generator to a random starting point. A unique seed returns a unique random number sequence."
   ]
  },
  {
   "cell_type": "code",
   "execution_count": 10,
   "metadata": {
    "execution": {
     "iopub.execute_input": "2021-01-16T11:28:42.374095Z",
     "iopub.status.busy": "2021-01-16T11:28:42.373344Z",
     "iopub.status.idle": "2021-01-16T11:30:31.093047Z",
     "shell.execute_reply": "2021-01-16T11:30:31.091896Z"
    },
    "papermill": {
     "duration": 109.09979,
     "end_time": "2021-01-16T11:30:31.093208",
     "exception": false,
     "start_time": "2021-01-16T11:28:41.993418",
     "status": "completed"
    },
    "tags": []
   },
   "outputs": [],
   "source": [
    "df= pd.read_csv(\"D:\\\\bdda ctr\\\\train.csv\", header=0, skiprows=skip)"
   ]
  },
  {
   "cell_type": "code",
   "execution_count": 11,
   "metadata": {
    "execution": {
     "iopub.execute_input": "2021-01-16T11:30:31.161231Z",
     "iopub.status.busy": "2021-01-16T11:30:31.160497Z",
     "iopub.status.idle": "2021-01-16T11:30:31.164154Z",
     "shell.execute_reply": "2021-01-16T11:30:31.164682Z"
    },
    "papermill": {
     "duration": 0.04073,
     "end_time": "2021-01-16T11:30:31.164818",
     "exception": false,
     "start_time": "2021-01-16T11:30:31.124088",
     "status": "completed"
    },
    "tags": []
   },
   "outputs": [
    {
     "data": {
      "text/plain": [
       "(1999999, 24)"
      ]
     },
     "execution_count": 11,
     "metadata": {},
     "output_type": "execute_result"
    }
   ],
   "source": [
    "df.shape\n",
    "#rows,columns"
   ]
  },
  {
   "cell_type": "code",
   "execution_count": 12,
   "metadata": {
    "execution": {
     "iopub.execute_input": "2021-01-16T11:30:31.232543Z",
     "iopub.status.busy": "2021-01-16T11:30:31.231803Z",
     "iopub.status.idle": "2021-01-16T11:30:31.237438Z",
     "shell.execute_reply": "2021-01-16T11:30:31.237935Z"
    },
    "papermill": {
     "duration": 0.042079,
     "end_time": "2021-01-16T11:30:31.238058",
     "exception": false,
     "start_time": "2021-01-16T11:30:31.195979",
     "status": "completed"
    },
    "tags": []
   },
   "outputs": [
    {
     "data": {
      "text/plain": [
       "Index(['id', 'click', 'hour', 'C1', 'banner_pos', 'site_id', 'site_domain',\n",
       "       'site_category', 'app_id', 'app_domain', 'app_category', 'device_id',\n",
       "       'device_ip', 'device_model', 'device_type', 'device_conn_type', 'C14',\n",
       "       'C15', 'C16', 'C17', 'C18', 'C19', 'C20', 'C21'],\n",
       "      dtype='object')"
      ]
     },
     "execution_count": 12,
     "metadata": {},
     "output_type": "execute_result"
    }
   ],
   "source": [
    "df.columns\n",
    "#listcolumn names"
   ]
  },
  {
   "cell_type": "code",
   "execution_count": 13,
   "metadata": {
    "execution": {
     "iopub.execute_input": "2021-01-16T11:30:31.348779Z",
     "iopub.status.busy": "2021-01-16T11:30:31.347887Z",
     "iopub.status.idle": "2021-01-16T11:30:31.805799Z",
     "shell.execute_reply": "2021-01-16T11:30:31.805186Z"
    },
    "papermill": {
     "duration": 0.537165,
     "end_time": "2021-01-16T11:30:31.805914",
     "exception": false,
     "start_time": "2021-01-16T11:30:31.268749",
     "status": "completed"
    },
    "tags": []
   },
   "outputs": [],
   "source": [
    "df[\"hour\"] = pd.to_datetime(df[\"hour\"], format=\"%y%m%d%H\")\n",
    "#To return hour directly"
   ]
  },
  {
   "cell_type": "code",
   "execution_count": 14,
   "metadata": {
    "execution": {
     "iopub.execute_input": "2021-01-16T11:30:31.875467Z",
     "iopub.status.busy": "2021-01-16T11:30:31.874550Z",
     "iopub.status.idle": "2021-01-16T11:30:31.879169Z",
     "shell.execute_reply": "2021-01-16T11:30:31.878641Z"
    },
    "papermill": {
     "duration": 0.041135,
     "end_time": "2021-01-16T11:30:31.879286",
     "exception": false,
     "start_time": "2021-01-16T11:30:31.838151",
     "status": "completed"
    },
    "tags": []
   },
   "outputs": [
    {
     "data": {
      "text/plain": [
       "Index(['id', 'click', 'hour', 'C1', 'banner_pos', 'site_id', 'site_domain',\n",
       "       'site_category', 'app_id', 'app_domain', 'app_category', 'device_id',\n",
       "       'device_ip', 'device_model', 'device_type', 'device_conn_type', 'C14',\n",
       "       'C15', 'C16', 'C17', 'C18', 'C19', 'C20', 'C21'],\n",
       "      dtype='object')"
      ]
     },
     "execution_count": 14,
     "metadata": {},
     "output_type": "execute_result"
    }
   ],
   "source": [
    "df.columns\n",
    "#Column labels"
   ]
  },
  {
   "cell_type": "code",
   "execution_count": 15,
   "metadata": {
    "execution": {
     "iopub.execute_input": "2021-01-16T11:30:31.961887Z",
     "iopub.status.busy": "2021-01-16T11:30:31.961099Z",
     "iopub.status.idle": "2021-01-16T11:30:31.982643Z",
     "shell.execute_reply": "2021-01-16T11:30:31.983106Z"
    },
    "papermill": {
     "duration": 0.072299,
     "end_time": "2021-01-16T11:30:31.983217",
     "exception": false,
     "start_time": "2021-01-16T11:30:31.910918",
     "status": "completed"
    },
    "tags": []
   },
   "outputs": [
    {
     "data": {
      "text/html": [
       "<div>\n",
       "<style scoped>\n",
       "    .dataframe tbody tr th:only-of-type {\n",
       "        vertical-align: middle;\n",
       "    }\n",
       "\n",
       "    .dataframe tbody tr th {\n",
       "        vertical-align: top;\n",
       "    }\n",
       "\n",
       "    .dataframe thead th {\n",
       "        text-align: right;\n",
       "    }\n",
       "</style>\n",
       "<table border=\"1\" class=\"dataframe\">\n",
       "  <thead>\n",
       "    <tr style=\"text-align: right;\">\n",
       "      <th></th>\n",
       "      <th>id</th>\n",
       "      <th>click</th>\n",
       "      <th>hour</th>\n",
       "      <th>C1</th>\n",
       "      <th>banner_pos</th>\n",
       "      <th>site_id</th>\n",
       "      <th>site_domain</th>\n",
       "      <th>site_category</th>\n",
       "      <th>app_id</th>\n",
       "      <th>app_domain</th>\n",
       "      <th>...</th>\n",
       "      <th>device_type</th>\n",
       "      <th>device_conn_type</th>\n",
       "      <th>C14</th>\n",
       "      <th>C15</th>\n",
       "      <th>C16</th>\n",
       "      <th>C17</th>\n",
       "      <th>C18</th>\n",
       "      <th>C19</th>\n",
       "      <th>C20</th>\n",
       "      <th>C21</th>\n",
       "    </tr>\n",
       "  </thead>\n",
       "  <tbody>\n",
       "    <tr>\n",
       "      <th>0</th>\n",
       "      <td>10000679056417042096</td>\n",
       "      <td>0</td>\n",
       "      <td>2014-10-21</td>\n",
       "      <td>1005</td>\n",
       "      <td>1</td>\n",
       "      <td>fe8cc448</td>\n",
       "      <td>9166c161</td>\n",
       "      <td>0569f928</td>\n",
       "      <td>ecad2386</td>\n",
       "      <td>7801e8d9</td>\n",
       "      <td>...</td>\n",
       "      <td>1</td>\n",
       "      <td>0</td>\n",
       "      <td>18993</td>\n",
       "      <td>320</td>\n",
       "      <td>50</td>\n",
       "      <td>2161</td>\n",
       "      <td>0</td>\n",
       "      <td>35</td>\n",
       "      <td>-1</td>\n",
       "      <td>157</td>\n",
       "    </tr>\n",
       "    <tr>\n",
       "      <th>1</th>\n",
       "      <td>10010730108771379386</td>\n",
       "      <td>0</td>\n",
       "      <td>2014-10-21</td>\n",
       "      <td>1005</td>\n",
       "      <td>1</td>\n",
       "      <td>e151e245</td>\n",
       "      <td>7e091613</td>\n",
       "      <td>f028772b</td>\n",
       "      <td>ecad2386</td>\n",
       "      <td>7801e8d9</td>\n",
       "      <td>...</td>\n",
       "      <td>1</td>\n",
       "      <td>0</td>\n",
       "      <td>20634</td>\n",
       "      <td>320</td>\n",
       "      <td>50</td>\n",
       "      <td>2374</td>\n",
       "      <td>3</td>\n",
       "      <td>39</td>\n",
       "      <td>-1</td>\n",
       "      <td>23</td>\n",
       "    </tr>\n",
       "    <tr>\n",
       "      <th>2</th>\n",
       "      <td>10017325201002992404</td>\n",
       "      <td>1</td>\n",
       "      <td>2014-10-21</td>\n",
       "      <td>1005</td>\n",
       "      <td>0</td>\n",
       "      <td>1fbe01fe</td>\n",
       "      <td>f3845767</td>\n",
       "      <td>28905ebd</td>\n",
       "      <td>ecad2386</td>\n",
       "      <td>7801e8d9</td>\n",
       "      <td>...</td>\n",
       "      <td>1</td>\n",
       "      <td>0</td>\n",
       "      <td>15705</td>\n",
       "      <td>320</td>\n",
       "      <td>50</td>\n",
       "      <td>1722</td>\n",
       "      <td>0</td>\n",
       "      <td>35</td>\n",
       "      <td>-1</td>\n",
       "      <td>79</td>\n",
       "    </tr>\n",
       "    <tr>\n",
       "      <th>3</th>\n",
       "      <td>10018897422996679694</td>\n",
       "      <td>0</td>\n",
       "      <td>2014-10-21</td>\n",
       "      <td>1005</td>\n",
       "      <td>1</td>\n",
       "      <td>e151e245</td>\n",
       "      <td>7e091613</td>\n",
       "      <td>f028772b</td>\n",
       "      <td>ecad2386</td>\n",
       "      <td>7801e8d9</td>\n",
       "      <td>...</td>\n",
       "      <td>1</td>\n",
       "      <td>0</td>\n",
       "      <td>20366</td>\n",
       "      <td>320</td>\n",
       "      <td>50</td>\n",
       "      <td>2333</td>\n",
       "      <td>0</td>\n",
       "      <td>39</td>\n",
       "      <td>-1</td>\n",
       "      <td>157</td>\n",
       "    </tr>\n",
       "    <tr>\n",
       "      <th>4</th>\n",
       "      <td>10024660782388112342</td>\n",
       "      <td>1</td>\n",
       "      <td>2014-10-21</td>\n",
       "      <td>1005</td>\n",
       "      <td>1</td>\n",
       "      <td>d9750ee7</td>\n",
       "      <td>98572c79</td>\n",
       "      <td>f028772b</td>\n",
       "      <td>ecad2386</td>\n",
       "      <td>7801e8d9</td>\n",
       "      <td>...</td>\n",
       "      <td>1</td>\n",
       "      <td>0</td>\n",
       "      <td>17614</td>\n",
       "      <td>320</td>\n",
       "      <td>50</td>\n",
       "      <td>1993</td>\n",
       "      <td>2</td>\n",
       "      <td>1063</td>\n",
       "      <td>100083</td>\n",
       "      <td>33</td>\n",
       "    </tr>\n",
       "  </tbody>\n",
       "</table>\n",
       "<p>5 rows × 24 columns</p>\n",
       "</div>"
      ],
      "text/plain": [
       "                     id  click       hour    C1  banner_pos   site_id  \\\n",
       "0  10000679056417042096      0 2014-10-21  1005           1  fe8cc448   \n",
       "1  10010730108771379386      0 2014-10-21  1005           1  e151e245   \n",
       "2  10017325201002992404      1 2014-10-21  1005           0  1fbe01fe   \n",
       "3  10018897422996679694      0 2014-10-21  1005           1  e151e245   \n",
       "4  10024660782388112342      1 2014-10-21  1005           1  d9750ee7   \n",
       "\n",
       "  site_domain site_category    app_id app_domain  ... device_type  \\\n",
       "0    9166c161      0569f928  ecad2386   7801e8d9  ...           1   \n",
       "1    7e091613      f028772b  ecad2386   7801e8d9  ...           1   \n",
       "2    f3845767      28905ebd  ecad2386   7801e8d9  ...           1   \n",
       "3    7e091613      f028772b  ecad2386   7801e8d9  ...           1   \n",
       "4    98572c79      f028772b  ecad2386   7801e8d9  ...           1   \n",
       "\n",
       "  device_conn_type    C14  C15  C16   C17  C18   C19     C20  C21  \n",
       "0                0  18993  320   50  2161    0    35      -1  157  \n",
       "1                0  20634  320   50  2374    3    39      -1   23  \n",
       "2                0  15705  320   50  1722    0    35      -1   79  \n",
       "3                0  20366  320   50  2333    0    39      -1  157  \n",
       "4                0  17614  320   50  1993    2  1063  100083   33  \n",
       "\n",
       "[5 rows x 24 columns]"
      ]
     },
     "execution_count": 15,
     "metadata": {},
     "output_type": "execute_result"
    }
   ],
   "source": [
    "df.head()\n",
    "#First five headings"
   ]
  },
  {
   "cell_type": "code",
   "execution_count": 16,
   "metadata": {
    "execution": {
     "iopub.execute_input": "2021-01-16T11:30:32.055023Z",
     "iopub.status.busy": "2021-01-16T11:30:32.054189Z",
     "iopub.status.idle": "2021-01-16T11:30:32.346894Z",
     "shell.execute_reply": "2021-01-16T11:30:32.347471Z"
    },
    "papermill": {
     "duration": 0.331143,
     "end_time": "2021-01-16T11:30:32.347633",
     "exception": false,
     "start_time": "2021-01-16T11:30:32.016490",
     "status": "completed"
    },
    "tags": []
   },
   "outputs": [
    {
     "data": {
      "text/plain": [
       "<AxesSubplot:xlabel='click', ylabel='count'>"
      ]
     },
     "execution_count": 16,
     "metadata": {},
     "output_type": "execute_result"
    },
    {
     "data": {
      "image/png": "[encoded data removed]",
      "text/plain": [
       "<Figure size 432x288 with 1 Axes>"
      ]
     },
     "metadata": {},
     "output_type": "display_data"
    }
   ],
   "source": [
    "sns.countplot(x='click',data=df)\n",
    "#plotted if the customer clicked or not"
   ]
  },
  {
   "cell_type": "markdown",
   "metadata": {
    "papermill": {
     "duration": 0.038246,
     "end_time": "2021-01-16T11:30:32.424447",
     "exception": false,
     "start_time": "2021-01-16T11:30:32.386201",
     "status": "completed"
    },
    "tags": []
   },
   "source": [
    "Here we can see that the number of clicks is very less as compared to the number of non clicks"
   ]
  },
  {
   "cell_type": "code",
   "execution_count": 17,
   "metadata": {
    "execution": {
     "iopub.execute_input": "2021-01-16T11:30:32.503874Z",
     "iopub.status.busy": "2021-01-16T11:30:32.503087Z",
     "iopub.status.idle": "2021-01-16T11:30:32.507718Z",
     "shell.execute_reply": "2021-01-16T11:30:32.508156Z"
    },
    "papermill": {
     "duration": 0.04638,
     "end_time": "2021-01-16T11:30:32.508271",
     "exception": false,
     "start_time": "2021-01-16T11:30:32.461891",
     "status": "completed"
    },
    "tags": []
   },
   "outputs": [
    {
     "data": {
      "text/plain": [
       "id                          uint64\n",
       "click                        int64\n",
       "hour                datetime64[ns]\n",
       "C1                           int64\n",
       "banner_pos                   int64\n",
       "site_id                     object\n",
       "site_domain                 object\n",
       "site_category               object\n",
       "app_id                      object\n",
       "app_domain                  object\n",
       "app_category                object\n",
       "device_id                   object\n",
       "device_ip                   object\n",
       "device_model                object\n",
       "device_type                  int64\n",
       "device_conn_type             int64\n",
       "C14                          int64\n",
       "C15                          int64\n",
       "C16                          int64\n",
       "C17                          int64\n",
       "C18                          int64\n",
       "C19                          int64\n",
       "C20                          int64\n",
       "C21                          int64\n",
       "dtype: object"
      ]
     },
     "execution_count": 17,
     "metadata": {},
     "output_type": "execute_result"
    }
   ],
   "source": [
    "df.dtypes\n",
    "#defining the types of data"
   ]
  },
  {
   "cell_type": "markdown",
   "metadata": {
    "papermill": {
     "duration": 0.034536,
     "end_time": "2021-01-16T11:30:32.576995",
     "exception": false,
     "start_time": "2021-01-16T11:30:32.542459",
     "status": "completed"
    },
    "tags": []
   },
   "source": [
    "# CTR current"
   ]
  },
  {
   "cell_type": "code",
   "execution_count": 18,
   "metadata": {
    "execution": {
     "iopub.execute_input": "2021-01-16T11:30:32.651975Z",
     "iopub.status.busy": "2021-01-16T11:30:32.651073Z",
     "iopub.status.idle": "2021-01-16T11:30:32.701457Z",
     "shell.execute_reply": "2021-01-16T11:30:32.700616Z"
    },
    "papermill": {
     "duration": 0.090033,
     "end_time": "2021-01-16T11:30:32.701565",
     "exception": false,
     "start_time": "2021-01-16T11:30:32.611532",
     "status": "completed"
    },
    "tags": []
   },
   "outputs": [
    {
     "data": {
      "text/plain": [
       "0    0.830121\n",
       "1    0.169879\n",
       "Name: click, dtype: float64"
      ]
     },
     "execution_count": 18,
     "metadata": {},
     "output_type": "execute_result"
    }
   ],
   "source": [
    "df[\"click\"].value_counts() / len(df)\n",
    "#0 not clicked, 1 is clicked"
   ]
  },
  {
   "cell_type": "code",
   "execution_count": 19,
   "metadata": {
    "execution": {
     "iopub.execute_input": "2021-01-16T11:30:32.777684Z",
     "iopub.status.busy": "2021-01-16T11:30:32.776831Z",
     "iopub.status.idle": "2021-01-16T11:30:32.957919Z",
     "shell.execute_reply": "2021-01-16T11:30:32.958419Z"
    },
    "papermill": {
     "duration": 0.2207,
     "end_time": "2021-01-16T11:30:32.958548",
     "exception": false,
     "start_time": "2021-01-16T11:30:32.737848",
     "status": "completed"
    },
    "tags": []
   },
   "outputs": [
    {
     "data": {
      "text/plain": [
       "0           0\n",
       "1           0\n",
       "2           0\n",
       "3           0\n",
       "4           0\n",
       "           ..\n",
       "1999994    23\n",
       "1999995    23\n",
       "1999996    23\n",
       "1999997    23\n",
       "1999998    23\n",
       "Name: hour, Length: 1999999, dtype: int64"
      ]
     },
     "execution_count": 19,
     "metadata": {},
     "output_type": "execute_result"
    }
   ],
   "source": [
    "df[\"hour\"].dt.hour\n",
    "#taking out the hour for each click or non click"
   ]
  },
  {
   "cell_type": "code",
   "execution_count": 20,
   "metadata": {
    "execution": {
     "iopub.execute_input": "2021-01-16T11:30:33.036263Z",
     "iopub.status.busy": "2021-01-16T11:30:33.035410Z",
     "iopub.status.idle": "2021-01-16T11:30:33.212342Z",
     "shell.execute_reply": "2021-01-16T11:30:33.211791Z"
    },
    "papermill": {
     "duration": 0.218296,
     "end_time": "2021-01-16T11:30:33.212489",
     "exception": false,
     "start_time": "2021-01-16T11:30:32.994193",
     "status": "completed"
    },
    "tags": []
   },
   "outputs": [],
   "source": [
    "df[\"actual_hour_day\"]= df[\"hour\"].dt.hour\n",
    "#Extracting the actual hour for time series"
   ]
  },
  {
   "cell_type": "code",
   "execution_count": 21,
   "metadata": {
    "execution": {
     "iopub.execute_input": "2021-01-16T11:30:33.308494Z",
     "iopub.status.busy": "2021-01-16T11:30:33.307752Z",
     "iopub.status.idle": "2021-01-16T11:30:33.311513Z",
     "shell.execute_reply": "2021-01-16T11:30:33.312006Z"
    },
    "papermill": {
     "duration": 0.062671,
     "end_time": "2021-01-16T11:30:33.312132",
     "exception": false,
     "start_time": "2021-01-16T11:30:33.249461",
     "status": "completed"
    },
    "tags": []
   },
   "outputs": [
    {
     "data": {
      "text/html": [
       "<div>\n",
       "<style scoped>\n",
       "    .dataframe tbody tr th:only-of-type {\n",
       "        vertical-align: middle;\n",
       "    }\n",
       "\n",
       "    .dataframe tbody tr th {\n",
       "        vertical-align: top;\n",
       "    }\n",
       "\n",
       "    .dataframe thead th {\n",
       "        text-align: right;\n",
       "    }\n",
       "</style>\n",
       "<table border=\"1\" class=\"dataframe\">\n",
       "  <thead>\n",
       "    <tr style=\"text-align: right;\">\n",
       "      <th></th>\n",
       "      <th>id</th>\n",
       "      <th>click</th>\n",
       "      <th>hour</th>\n",
       "      <th>C1</th>\n",
       "      <th>banner_pos</th>\n",
       "      <th>site_id</th>\n",
       "      <th>site_domain</th>\n",
       "      <th>site_category</th>\n",
       "      <th>app_id</th>\n",
       "      <th>app_domain</th>\n",
       "      <th>...</th>\n",
       "      <th>device_conn_type</th>\n",
       "      <th>C14</th>\n",
       "      <th>C15</th>\n",
       "      <th>C16</th>\n",
       "      <th>C17</th>\n",
       "      <th>C18</th>\n",
       "      <th>C19</th>\n",
       "      <th>C20</th>\n",
       "      <th>C21</th>\n",
       "      <th>actual_hour_day</th>\n",
       "    </tr>\n",
       "  </thead>\n",
       "  <tbody>\n",
       "    <tr>\n",
       "      <th>0</th>\n",
       "      <td>10000679056417042096</td>\n",
       "      <td>0</td>\n",
       "      <td>2014-10-21</td>\n",
       "      <td>1005</td>\n",
       "      <td>1</td>\n",
       "      <td>fe8cc448</td>\n",
       "      <td>9166c161</td>\n",
       "      <td>0569f928</td>\n",
       "      <td>ecad2386</td>\n",
       "      <td>7801e8d9</td>\n",
       "      <td>...</td>\n",
       "      <td>0</td>\n",
       "      <td>18993</td>\n",
       "      <td>320</td>\n",
       "      <td>50</td>\n",
       "      <td>2161</td>\n",
       "      <td>0</td>\n",
       "      <td>35</td>\n",
       "      <td>-1</td>\n",
       "      <td>157</td>\n",
       "      <td>0</td>\n",
       "    </tr>\n",
       "    <tr>\n",
       "      <th>1</th>\n",
       "      <td>10010730108771379386</td>\n",
       "      <td>0</td>\n",
       "      <td>2014-10-21</td>\n",
       "      <td>1005</td>\n",
       "      <td>1</td>\n",
       "      <td>e151e245</td>\n",
       "      <td>7e091613</td>\n",
       "      <td>f028772b</td>\n",
       "      <td>ecad2386</td>\n",
       "      <td>7801e8d9</td>\n",
       "      <td>...</td>\n",
       "      <td>0</td>\n",
       "      <td>20634</td>\n",
       "      <td>320</td>\n",
       "      <td>50</td>\n",
       "      <td>2374</td>\n",
       "      <td>3</td>\n",
       "      <td>39</td>\n",
       "      <td>-1</td>\n",
       "      <td>23</td>\n",
       "      <td>0</td>\n",
       "    </tr>\n",
       "  </tbody>\n",
       "</table>\n",
       "<p>2 rows × 25 columns</p>\n",
       "</div>"
      ],
      "text/plain": [
       "                     id  click       hour    C1  banner_pos   site_id  \\\n",
       "0  10000679056417042096      0 2014-10-21  1005           1  fe8cc448   \n",
       "1  10010730108771379386      0 2014-10-21  1005           1  e151e245   \n",
       "\n",
       "  site_domain site_category    app_id app_domain  ... device_conn_type    C14  \\\n",
       "0    9166c161      0569f928  ecad2386   7801e8d9  ...                0  18993   \n",
       "1    7e091613      f028772b  ecad2386   7801e8d9  ...                0  20634   \n",
       "\n",
       "   C15 C16   C17  C18  C19  C20  C21  actual_hour_day  \n",
       "0  320  50  2161    0   35   -1  157                0  \n",
       "1  320  50  2374    3   39   -1   23                0  \n",
       "\n",
       "[2 rows x 25 columns]"
      ]
     },
     "execution_count": 21,
     "metadata": {},
     "output_type": "execute_result"
    }
   ],
   "source": [
    "df.head(2)\n",
    "#added actual hour day"
   ]
  },
  {
   "cell_type": "code",
   "execution_count": 22,
   "metadata": {
    "execution": {
     "iopub.execute_input": "2021-01-16T11:30:33.391892Z",
     "iopub.status.busy": "2021-01-16T11:30:33.390892Z",
     "iopub.status.idle": "2021-01-16T11:30:33.490703Z",
     "shell.execute_reply": "2021-01-16T11:30:33.490053Z"
    },
    "papermill": {
     "duration": 0.141653,
     "end_time": "2021-01-16T11:30:33.490825",
     "exception": false,
     "start_time": "2021-01-16T11:30:33.349172",
     "status": "completed"
    },
    "tags": []
   },
   "outputs": [],
   "source": [
    "imp= df.groupby(['actual_hour_day', 'click']).size().unstack()\n",
    "\n",
    "#groupby to split two variables for analysis"
   ]
  },
  {
   "cell_type": "code",
   "execution_count": 23,
   "metadata": {
    "execution": {
     "iopub.execute_input": "2021-01-16T11:30:33.574288Z",
     "iopub.status.busy": "2021-01-16T11:30:33.573566Z",
     "iopub.status.idle": "2021-01-16T11:30:33.577238Z",
     "shell.execute_reply": "2021-01-16T11:30:33.577766Z"
    },
    "papermill": {
     "duration": 0.050271,
     "end_time": "2021-01-16T11:30:33.577884",
     "exception": false,
     "start_time": "2021-01-16T11:30:33.527613",
     "status": "completed"
    },
    "tags": []
   },
   "outputs": [
    {
     "data": {
      "text/html": [
       "<div>\n",
       "<style scoped>\n",
       "    .dataframe tbody tr th:only-of-type {\n",
       "        vertical-align: middle;\n",
       "    }\n",
       "\n",
       "    .dataframe tbody tr th {\n",
       "        vertical-align: top;\n",
       "    }\n",
       "\n",
       "    .dataframe thead th {\n",
       "        text-align: right;\n",
       "    }\n",
       "</style>\n",
       "<table border=\"1\" class=\"dataframe\">\n",
       "  <thead>\n",
       "    <tr style=\"text-align: right;\">\n",
       "      <th>click</th>\n",
       "      <th>0</th>\n",
       "      <th>1</th>\n",
       "    </tr>\n",
       "    <tr>\n",
       "      <th>actual_hour_day</th>\n",
       "      <th></th>\n",
       "      <th></th>\n",
       "    </tr>\n",
       "  </thead>\n",
       "  <tbody>\n",
       "    <tr>\n",
       "      <th>0</th>\n",
       "      <td>33839</td>\n",
       "      <td>7427</td>\n",
       "    </tr>\n",
       "    <tr>\n",
       "      <th>1</th>\n",
       "      <td>39717</td>\n",
       "      <td>9264</td>\n",
       "    </tr>\n",
       "    <tr>\n",
       "      <th>2</th>\n",
       "      <td>49735</td>\n",
       "      <td>10310</td>\n",
       "    </tr>\n",
       "    <tr>\n",
       "      <th>3</th>\n",
       "      <td>57332</td>\n",
       "      <td>11918</td>\n",
       "    </tr>\n",
       "    <tr>\n",
       "      <th>4</th>\n",
       "      <td>79940</td>\n",
       "      <td>15029</td>\n",
       "    </tr>\n",
       "  </tbody>\n",
       "</table>\n",
       "</div>"
      ],
      "text/plain": [
       "click                0      1\n",
       "actual_hour_day              \n",
       "0                33839   7427\n",
       "1                39717   9264\n",
       "2                49735  10310\n",
       "3                57332  11918\n",
       "4                79940  15029"
      ]
     },
     "execution_count": 23,
     "metadata": {},
     "output_type": "execute_result"
    }
   ],
   "source": [
    "imp.head()\n",
    "#no. of clicks and non clicks according to actual hour day"
   ]
  },
  {
   "cell_type": "code",
   "execution_count": 24,
   "metadata": {
    "execution": {
     "iopub.execute_input": "2021-01-16T11:30:33.659030Z",
     "iopub.status.busy": "2021-01-16T11:30:33.658219Z",
     "iopub.status.idle": "2021-01-16T11:30:34.305774Z",
     "shell.execute_reply": "2021-01-16T11:30:34.306909Z"
    },
    "papermill": {
     "duration": 0.691885,
     "end_time": "2021-01-16T11:30:34.307102",
     "exception": false,
     "start_time": "2021-01-16T11:30:33.615217",
     "status": "completed"
    },
    "tags": []
   },
   "outputs": [
    {
     "data": {
      "text/plain": [
       "[]"
      ]
     },
     "execution_count": 24,
     "metadata": {},
     "output_type": "execute_result"
    },
    {
     "data": {
      "text/plain": [
       "<Figure size 432x288 with 0 Axes>"
      ]
     },
     "metadata": {},
     "output_type": "display_data"
    },
    {
     "data": {
      "image/png": "[encoded data removed]",
      "text/plain": [
       "<Figure size 1152x576 with 1 Axes>"
      ]
     },
     "metadata": {},
     "output_type": "display_data"
    }
   ],
   "source": [
    "plt.figure()\n",
    "imp.plot(kind='bar', title=\"Day hours\", figsize=(16,8))\n",
    "plt.ylabel(\"count of clicks\")\n",
    "plt.plot()\n",
    "\n",
    "#Plot hours vs clicks and non clicks"
   ]
  },
  {
   "cell_type": "markdown",
   "metadata": {
    "papermill": {
     "duration": 0.065143,
     "end_time": "2021-01-16T11:30:34.433871",
     "exception": false,
     "start_time": "2021-01-16T11:30:34.368728",
     "status": "completed"
    },
    "tags": []
   },
   "source": [
    "Here we can see the hourly impressions/day and we can clearly see that the rate of clicks is very low as compared to non  clicks"
   ]
  },
  {
   "cell_type": "code",
   "execution_count": 25,
   "metadata": {
    "execution": {
     "iopub.execute_input": "2021-01-16T11:30:34.558349Z",
     "iopub.status.busy": "2021-01-16T11:30:34.557420Z",
     "iopub.status.idle": "2021-01-16T11:30:34.617507Z",
     "shell.execute_reply": "2021-01-16T11:30:34.618630Z"
    },
    "papermill": {
     "duration": 0.126892,
     "end_time": "2021-01-16T11:30:34.618811",
     "exception": false,
     "start_time": "2021-01-16T11:30:34.491919",
     "status": "completed"
    },
    "tags": []
   },
   "outputs": [
    {
     "data": {
      "text/plain": [
       "banner_pos\n",
       "0    236625\n",
       "1    102223\n",
       "2        81\n",
       "3        20\n",
       "4        84\n",
       "5        32\n",
       "7       692\n",
       "Name: click, dtype: int64"
      ]
     },
     "execution_count": 25,
     "metadata": {},
     "output_type": "execute_result"
    }
   ],
   "source": [
    "df.groupby('banner_pos')['click'].sum()\n",
    "#grouping clicks and banner positions"
   ]
  },
  {
   "cell_type": "code",
   "execution_count": 26,
   "metadata": {
    "execution": {
     "iopub.execute_input": "2021-01-16T11:30:34.751353Z",
     "iopub.status.busy": "2021-01-16T11:30:34.750512Z",
     "iopub.status.idle": "2021-01-16T11:30:34.800929Z",
     "shell.execute_reply": "2021-01-16T11:30:34.802041Z"
    },
    "papermill": {
     "duration": 0.123819,
     "end_time": "2021-01-16T11:30:34.802239",
     "exception": false,
     "start_time": "2021-01-16T11:30:34.678420",
     "status": "completed"
    },
    "tags": []
   },
   "outputs": [
    {
     "data": {
      "text/plain": [
       "device_type\n",
       "0     23357\n",
       "1    312191\n",
       "2         0\n",
       "4      3628\n",
       "5       581\n",
       "Name: click, dtype: int64"
      ]
     },
     "execution_count": 26,
     "metadata": {},
     "output_type": "execute_result"
    }
   ],
   "source": [
    "df.groupby('device_type')['click'].sum()\n",
    "#grouping for device types and cliks"
   ]
  },
  {
   "cell_type": "code",
   "execution_count": 27,
   "metadata": {
    "execution": {
     "iopub.execute_input": "2021-01-16T11:30:34.934267Z",
     "iopub.status.busy": "2021-01-16T11:30:34.933341Z",
     "iopub.status.idle": "2021-01-16T11:30:34.956144Z",
     "shell.execute_reply": "2021-01-16T11:30:34.957216Z"
    },
    "papermill": {
     "duration": 0.094824,
     "end_time": "2021-01-16T11:30:34.957389",
     "exception": false,
     "start_time": "2021-01-16T11:30:34.862565",
     "status": "completed"
    },
    "tags": []
   },
   "outputs": [
    {
     "data": {
      "text/plain": [
       "array([1, 0, 2, 5, 7, 4, 3], dtype=int64)"
      ]
     },
     "execution_count": 27,
     "metadata": {},
     "output_type": "execute_result"
    }
   ],
   "source": [
    "df.banner_pos.unique()\n",
    "\n",
    "#uniques are returned in order of positions"
   ]
  },
  {
   "cell_type": "markdown",
   "metadata": {
    "papermill": {
     "duration": 0.061224,
     "end_time": "2021-01-16T11:30:35.076792",
     "exception": false,
     "start_time": "2021-01-16T11:30:35.015568",
     "status": "completed"
    },
    "tags": []
   },
   "source": [
    "# CTR with respect to different columns"
   ]
  },
  {
   "cell_type": "markdown",
   "metadata": {
    "papermill": {
     "duration": 0.041625,
     "end_time": "2021-01-16T11:30:35.168656",
     "exception": false,
     "start_time": "2021-01-16T11:30:35.127031",
     "status": "completed"
    },
    "tags": []
   },
   "source": [
    "for C1"
   ]
  },
  {
   "cell_type": "code",
   "execution_count": 28,
   "metadata": {
    "execution": {
     "iopub.execute_input": "2021-01-16T11:30:35.258809Z",
     "iopub.status.busy": "2021-01-16T11:30:35.258076Z",
     "iopub.status.idle": "2021-01-16T11:30:35.261837Z",
     "shell.execute_reply": "2021-01-16T11:30:35.262342Z"
    },
    "papermill": {
     "duration": 0.051973,
     "end_time": "2021-01-16T11:30:35.262486",
     "exception": false,
     "start_time": "2021-01-16T11:30:35.210513",
     "status": "completed"
    },
    "tags": []
   },
   "outputs": [
    {
     "data": {
      "text/plain": [
       "Index(['id', 'click', 'hour', 'C1', 'banner_pos', 'site_id', 'site_domain',\n",
       "       'site_category', 'app_id', 'app_domain', 'app_category', 'device_id',\n",
       "       'device_ip', 'device_model', 'device_type', 'device_conn_type', 'C14',\n",
       "       'C15', 'C16', 'C17', 'C18', 'C19', 'C20', 'C21', 'actual_hour_day'],\n",
       "      dtype='object')"
      ]
     },
     "execution_count": 28,
     "metadata": {},
     "output_type": "execute_result"
    }
   ],
   "source": [
    "df.columns"
   ]
  },
  {
   "cell_type": "code",
   "execution_count": 29,
   "metadata": {
    "execution": {
     "iopub.execute_input": "2021-01-16T11:30:35.348672Z",
     "iopub.status.busy": "2021-01-16T11:30:35.347888Z",
     "iopub.status.idle": "2021-01-16T11:30:35.372269Z",
     "shell.execute_reply": "2021-01-16T11:30:35.371653Z"
    },
    "papermill": {
     "duration": 0.068888,
     "end_time": "2021-01-16T11:30:35.372377",
     "exception": false,
     "start_time": "2021-01-16T11:30:35.303489",
     "status": "completed"
    },
    "tags": []
   },
   "outputs": [
    {
     "data": {
      "text/plain": [
       "1005    0.918428\n",
       "1002    0.055203\n",
       "1010    0.022338\n",
       "1012    0.002804\n",
       "1007    0.000870\n",
       "1001    0.000222\n",
       "1008    0.000136\n",
       "Name: C1, dtype: float64"
      ]
     },
     "execution_count": 29,
     "metadata": {},
     "output_type": "execute_result"
    }
   ],
   "source": [
    "df.C1.value_counts()/len(df)\n",
    "#prob. for unique values in c1"
   ]
  },
  {
   "cell_type": "code",
   "execution_count": 30,
   "metadata": {
    "execution": {
     "iopub.execute_input": "2021-01-16T11:30:35.462536Z",
     "iopub.status.busy": "2021-01-16T11:30:35.461678Z",
     "iopub.status.idle": "2021-01-16T11:30:35.478303Z",
     "shell.execute_reply": "2021-01-16T11:30:35.477598Z"
    },
    "papermill": {
     "duration": 0.064375,
     "end_time": "2021-01-16T11:30:35.478459",
     "exception": false,
     "start_time": "2021-01-16T11:30:35.414084",
     "status": "completed"
    },
    "tags": []
   },
   "outputs": [
    {
     "name": "stdout",
     "output_type": "stream",
     "text": [
      "[1005 1002 1010 1007 1008 1012 1001]\n"
     ]
    }
   ],
   "source": [
    "c1= df.C1.unique()\n",
    "print(c1)"
   ]
  },
  {
   "cell_type": "code",
   "execution_count": 31,
   "metadata": {
    "execution": {
     "iopub.execute_input": "2021-01-16T11:30:35.577107Z",
     "iopub.status.busy": "2021-01-16T11:30:35.576160Z",
     "iopub.status.idle": "2021-01-16T11:30:36.387226Z",
     "shell.execute_reply": "2021-01-16T11:30:36.388127Z"
    },
    "papermill": {
     "duration": 0.862716,
     "end_time": "2021-01-16T11:30:36.388342",
     "exception": false,
     "start_time": "2021-01-16T11:30:35.525626",
     "status": "completed"
    },
    "tags": []
   },
   "outputs": [
    {
     "name": "stdout",
     "output_type": "stream",
     "text": [
      "C1 values 1005:, CTR is 0    0.762890\n",
      "1    0.155538\n",
      "Name: click, dtype: float64:\n",
      "C1 values 1002:, CTR is 0    0.043525\n",
      "1    0.011679\n",
      "Name: click, dtype: float64:\n",
      "C1 values 1010:, CTR is 0    0.020233\n",
      "1    0.002105\n",
      "Name: click, dtype: float64:\n",
      "C1 values 1007:, CTR is 0    0.000834\n",
      "1    0.000037\n",
      "Name: click, dtype: float64:\n",
      "C1 values 1008:, CTR is 0    0.000120\n",
      "1    0.000016\n",
      "Name: click, dtype: float64:\n",
      "C1 values 1012:, CTR is 0    0.002308\n",
      "1    0.000496\n",
      "Name: click, dtype: float64:\n",
      "C1 values 1001:, CTR is 0    0.000213\n",
      "1    0.000009\n",
      "Name: click, dtype: float64:\n"
     ]
    }
   ],
   "source": [
    "ctr_list=[]\n",
    "for i in c1:\n",
    "    ctr=df.loc[np.where((df.C1 == i))].click.value_counts() / len(df)\n",
    "    ctr_list.append(ctr)\n",
    "    print(\"C1 values {}:, CTR is {}:\".format(i,ctr))\n",
    "    \n",
    "    #probability of ctr in descending order according to the unique value in c1"
   ]
  },
  {
   "cell_type": "markdown",
   "metadata": {
    "papermill": {
     "duration": 0.05609,
     "end_time": "2021-01-16T11:30:36.492222",
     "exception": false,
     "start_time": "2021-01-16T11:30:36.436132",
     "status": "completed"
    },
    "tags": []
   },
   "source": [
    "FOR banner_pos"
   ]
  },
  {
   "cell_type": "code",
   "execution_count": 32,
   "metadata": {
    "execution": {
     "iopub.execute_input": "2021-01-16T11:30:36.589561Z",
     "iopub.status.busy": "2021-01-16T11:30:36.588677Z",
     "iopub.status.idle": "2021-01-16T11:30:36.613758Z",
     "shell.execute_reply": "2021-01-16T11:30:36.613164Z"
    },
    "papermill": {
     "duration": 0.076329,
     "end_time": "2021-01-16T11:30:36.613876",
     "exception": false,
     "start_time": "2021-01-16T11:30:36.537547",
     "status": "completed"
    },
    "tags": []
   },
   "outputs": [
    {
     "data": {
      "text/plain": [
       "0    0.720299\n",
       "1    0.277919\n",
       "7    0.001075\n",
       "2    0.000330\n",
       "4    0.000196\n",
       "5    0.000135\n",
       "3    0.000046\n",
       "Name: banner_pos, dtype: float64"
      ]
     },
     "execution_count": 32,
     "metadata": {},
     "output_type": "execute_result"
    }
   ],
   "source": [
    "df.banner_pos.value_counts() / len(df)"
   ]
  },
  {
   "cell_type": "code",
   "execution_count": 33,
   "metadata": {
    "execution": {
     "iopub.execute_input": "2021-01-16T11:30:36.711784Z",
     "iopub.status.busy": "2021-01-16T11:30:36.710960Z",
     "iopub.status.idle": "2021-01-16T11:30:36.725877Z",
     "shell.execute_reply": "2021-01-16T11:30:36.725152Z"
    },
    "papermill": {
     "duration": 0.064808,
     "end_time": "2021-01-16T11:30:36.726012",
     "exception": false,
     "start_time": "2021-01-16T11:30:36.661204",
     "status": "completed"
    },
    "tags": []
   },
   "outputs": [
    {
     "name": "stdout",
     "output_type": "stream",
     "text": [
      "[1 0 2 5 7 4 3]\n"
     ]
    }
   ],
   "source": [
    "banner= df.banner_pos.unique()\n",
    "print(banner)"
   ]
  },
  {
   "cell_type": "code",
   "execution_count": 34,
   "metadata": {
    "execution": {
     "iopub.execute_input": "2021-01-16T11:30:36.823707Z",
     "iopub.status.busy": "2021-01-16T11:30:36.822845Z",
     "iopub.status.idle": "2021-01-16T11:30:37.423854Z",
     "shell.execute_reply": "2021-01-16T11:30:37.424733Z"
    },
    "papermill": {
     "duration": 0.654272,
     "end_time": "2021-01-16T11:30:37.424887",
     "exception": false,
     "start_time": "2021-01-16T11:30:36.770615",
     "status": "completed"
    },
    "tags": []
   },
   "outputs": [
    {
     "name": "stdout",
     "output_type": "stream",
     "text": [
      "banner values 1:, banner is 0    0.226808\n",
      "1    0.051112\n",
      "Name: click, dtype: float64:\n",
      "banner values 0:, banner is 0    0.601987\n",
      "1    0.118313\n",
      "Name: click, dtype: float64:\n",
      "banner values 2:, banner is 0    0.000290\n",
      "1    0.000041\n",
      "Name: click, dtype: float64:\n",
      "banner values 5:, banner is 0    0.000119\n",
      "1    0.000016\n",
      "Name: click, dtype: float64:\n",
      "banner values 7:, banner is 0    0.000729\n",
      "1    0.000346\n",
      "Name: click, dtype: float64:\n",
      "banner values 4:, banner is 0    0.000154\n",
      "1    0.000042\n",
      "Name: click, dtype: float64:\n",
      "banner values 3:, banner is 0    0.000036\n",
      "1    0.000010\n",
      "Name: click, dtype: float64:\n"
     ]
    }
   ],
   "source": [
    "ban_list=[]\n",
    "for i in banner:\n",
    "    baa=df.loc[np.where((df.banner_pos == i))].click.value_counts() / len(df)\n",
    "    ban_list.append(baa)\n",
    "    print(\"banner values {}:, banner is {}:\".format(i,baa))\n",
    "    #different prob for differnent banners"
   ]
  },
  {
   "cell_type": "code",
   "execution_count": 35,
   "metadata": {
    "execution": {
     "iopub.execute_input": "2021-01-16T11:30:37.566214Z",
     "iopub.status.busy": "2021-01-16T11:30:37.565121Z",
     "iopub.status.idle": "2021-01-16T11:30:37.575244Z",
     "shell.execute_reply": "2021-01-16T11:30:37.573222Z"
    },
    "papermill": {
     "duration": 0.095404,
     "end_time": "2021-01-16T11:30:37.575421",
     "exception": false,
     "start_time": "2021-01-16T11:30:37.480017",
     "status": "completed"
    },
    "tags": []
   },
   "outputs": [
    {
     "data": {
      "text/plain": [
       "id                          uint64\n",
       "click                        int64\n",
       "hour                datetime64[ns]\n",
       "C1                           int64\n",
       "banner_pos                   int64\n",
       "site_id                     object\n",
       "site_domain                 object\n",
       "site_category               object\n",
       "app_id                      object\n",
       "app_domain                  object\n",
       "app_category                object\n",
       "device_id                   object\n",
       "device_ip                   object\n",
       "device_model                object\n",
       "device_type                  int64\n",
       "device_conn_type             int64\n",
       "C14                          int64\n",
       "C15                          int64\n",
       "C16                          int64\n",
       "C17                          int64\n",
       "C18                          int64\n",
       "C19                          int64\n",
       "C20                          int64\n",
       "C21                          int64\n",
       "actual_hour_day              int64\n",
       "dtype: object"
      ]
     },
     "execution_count": 35,
     "metadata": {},
     "output_type": "execute_result"
    }
   ],
   "source": [
    "df.dtypes"
   ]
  },
  {
   "cell_type": "markdown",
   "metadata": {
    "papermill": {
     "duration": 0.065384,
     "end_time": "2021-01-16T11:30:37.718084",
     "exception": false,
     "start_time": "2021-01-16T11:30:37.652700",
     "status": "completed"
    },
    "tags": []
   },
   "source": [
    "for device_type"
   ]
  },
  {
   "cell_type": "code",
   "execution_count": 36,
   "metadata": {
    "execution": {
     "iopub.execute_input": "2021-01-16T11:30:37.867094Z",
     "iopub.status.busy": "2021-01-16T11:30:37.866032Z",
     "iopub.status.idle": "2021-01-16T11:30:37.905528Z",
     "shell.execute_reply": "2021-01-16T11:30:37.904182Z"
    },
    "papermill": {
     "duration": 0.122168,
     "end_time": "2021-01-16T11:30:37.905674",
     "exception": false,
     "start_time": "2021-01-16T11:30:37.783506",
     "status": "completed"
    },
    "tags": []
   },
   "outputs": [
    {
     "data": {
      "text/plain": [
       "1    9.224590e-01\n",
       "0    5.520303e-02\n",
       "4    1.920851e-02\n",
       "5    3.129002e-03\n",
       "2    5.000003e-07\n",
       "Name: device_type, dtype: float64"
      ]
     },
     "execution_count": 36,
     "metadata": {},
     "output_type": "execute_result"
    }
   ],
   "source": [
    "df.device_type.value_counts() / len(df)"
   ]
  },
  {
   "cell_type": "code",
   "execution_count": 37,
   "metadata": {
    "execution": {
     "iopub.execute_input": "2021-01-16T11:30:38.067303Z",
     "iopub.status.busy": "2021-01-16T11:30:38.066407Z",
     "iopub.status.idle": "2021-01-16T11:30:38.090158Z",
     "shell.execute_reply": "2021-01-16T11:30:38.091276Z"
    },
    "papermill": {
     "duration": 0.103279,
     "end_time": "2021-01-16T11:30:38.091473",
     "exception": false,
     "start_time": "2021-01-16T11:30:37.988194",
     "status": "completed"
    },
    "tags": []
   },
   "outputs": [
    {
     "name": "stdout",
     "output_type": "stream",
     "text": [
      "[1 0 4 5 2]\n"
     ]
    }
   ],
   "source": [
    "dev= df.device_type.unique()\n",
    "print(dev)"
   ]
  },
  {
   "cell_type": "code",
   "execution_count": 38,
   "metadata": {
    "execution": {
     "iopub.execute_input": "2021-01-16T11:30:38.266102Z",
     "iopub.status.busy": "2021-01-16T11:30:38.265299Z",
     "iopub.status.idle": "2021-01-16T11:30:38.592437Z",
     "shell.execute_reply": "2021-01-16T11:30:38.593135Z"
    },
    "papermill": {
     "duration": 0.413891,
     "end_time": "2021-01-16T11:30:38.593345",
     "exception": false,
     "start_time": "2021-01-16T11:30:38.179454",
     "status": "completed"
    },
    "tags": []
   },
   "outputs": [],
   "source": [
    "X= df.drop(\"click\", axis=1)\n",
    "\n",
    "y= df.click"
   ]
  },
  {
   "cell_type": "code",
   "execution_count": 39,
   "metadata": {
    "execution": {
     "iopub.execute_input": "2021-01-16T11:30:38.734819Z",
     "iopub.status.busy": "2021-01-16T11:30:38.733925Z",
     "iopub.status.idle": "2021-01-16T11:30:38.868308Z",
     "shell.execute_reply": "2021-01-16T11:30:38.867020Z"
    },
    "papermill": {
     "duration": 0.207397,
     "end_time": "2021-01-16T11:30:38.868469",
     "exception": false,
     "start_time": "2021-01-16T11:30:38.661072",
     "status": "completed"
    },
    "tags": []
   },
   "outputs": [],
   "source": [
    "from sklearn.model_selection import train_test_split"
   ]
  },
  {
   "cell_type": "code",
   "execution_count": 40,
   "metadata": {
    "execution": {
     "iopub.execute_input": "2021-01-16T11:30:38.977285Z",
     "iopub.status.busy": "2021-01-16T11:30:38.976230Z",
     "iopub.status.idle": "2021-01-16T11:30:40.840108Z",
     "shell.execute_reply": "2021-01-16T11:30:40.839473Z"
    },
    "papermill": {
     "duration": 1.921501,
     "end_time": "2021-01-16T11:30:40.840226",
     "exception": false,
     "start_time": "2021-01-16T11:30:38.918725",
     "status": "completed"
    },
    "tags": []
   },
   "outputs": [],
   "source": [
    "X_train, X_test, y_train, y_test= train_test_split(X,y,test_size=0.3, random_state=12)"
   ]
  },
  {
   "cell_type": "code",
   "execution_count": 41,
   "metadata": {},
   "outputs": [
    {
     "name": "stdout",
     "output_type": "stream",
     "text": [
      "Requirement already satisfied: catboost in c:\\users\\lenovo\\anaconda3\\lib\\site-packages (0.26.1)\n",
      "Requirement already satisfied: pandas>=0.24.0 in c:\\users\\lenovo\\anaconda3\\lib\\site-packages (from catboost) (1.2.4)\n",
      "Requirement already satisfied: matplotlib in c:\\users\\lenovo\\anaconda3\\lib\\site-packages (from catboost) (3.3.4)\n",
      "Requirement already satisfied: six in c:\\users\\lenovo\\anaconda3\\lib\\site-packages (from catboost) (1.15.0)\n",
      "Requirement already satisfied: plotly in c:\\users\\lenovo\\anaconda3\\lib\\site-packages (from catboost) (5.2.2)\n",
      "Requirement already satisfied: scipy in c:\\users\\lenovo\\anaconda3\\lib\\site-packages (from catboost) (1.6.2)\n",
      "Requirement already satisfied: graphviz in c:\\users\\lenovo\\anaconda3\\lib\\site-packages (from catboost) (0.17)\n",
      "Requirement already satisfied: numpy>=1.16.0 in c:\\users\\lenovo\\anaconda3\\lib\\site-packages (from catboost) (1.20.1)\n",
      "Requirement already satisfied: pytz>=2017.3 in c:\\users\\lenovo\\anaconda3\\lib\\site-packages (from pandas>=0.24.0->catboost) (2021.1)\n",
      "Requirement already satisfied: python-dateutil>=2.7.3 in c:\\users\\lenovo\\anaconda3\\lib\\site-packages (from pandas>=0.24.0->catboost) (2.8.1)\n",
      "Requirement already satisfied: pillow>=6.2.0 in c:\\users\\lenovo\\anaconda3\\lib\\site-packages (from matplotlib->catboost) (8.2.0)\n",
      "Requirement already satisfied: cycler>=0.10 in c:\\users\\lenovo\\anaconda3\\lib\\site-packages (from matplotlib->catboost) (0.10.0)\n",
      "Requirement already satisfied: pyparsing!=2.0.4,!=2.1.2,!=2.1.6,>=2.0.3 in c:\\users\\lenovo\\anaconda3\\lib\\site-packages (from matplotlib->catboost) (2.4.7)\n",
      "Requirement already satisfied: kiwisolver>=1.0.1 in c:\\users\\lenovo\\anaconda3\\lib\\site-packages (from matplotlib->catboost) (1.3.1)\n",
      "Requirement already satisfied: tenacity>=6.2.0 in c:\\users\\lenovo\\anaconda3\\lib\\site-packages (from plotly->catboost) (8.0.1)\n",
      "Note: you may need to restart the kernel to use updated packages.\n"
     ]
    }
   ],
   "source": [
    "pip install catboost"
   ]
  },
  {
   "cell_type": "code",
   "execution_count": 42,
   "metadata": {
    "execution": {
     "iopub.execute_input": "2021-01-16T11:30:40.947247Z",
     "iopub.status.busy": "2021-01-16T11:30:40.946423Z",
     "iopub.status.idle": "2021-01-16T11:30:41.126799Z",
     "shell.execute_reply": "2021-01-16T11:30:41.126141Z"
    },
    "papermill": {
     "duration": 0.23611,
     "end_time": "2021-01-16T11:30:41.126933",
     "exception": false,
     "start_time": "2021-01-16T11:30:40.890823",
     "status": "completed"
    },
    "tags": []
   },
   "outputs": [],
   "source": [
    "from catboost import CatBoostClassifier"
   ]
  },
  {
   "cell_type": "code",
   "execution_count": 43,
   "metadata": {
    "execution": {
     "iopub.execute_input": "2021-01-16T11:30:41.230290Z",
     "iopub.status.busy": "2021-01-16T11:30:41.229284Z",
     "iopub.status.idle": "2021-01-16T11:30:41.232316Z",
     "shell.execute_reply": "2021-01-16T11:30:41.231807Z"
    },
    "papermill": {
     "duration": 0.056677,
     "end_time": "2021-01-16T11:30:41.232439",
     "exception": false,
     "start_time": "2021-01-16T11:30:41.175762",
     "status": "completed"
    },
    "tags": []
   },
   "outputs": [],
   "source": [
    "cat_features= [\"site_id\", \"site_domain\", \"site_category\",\n",
    "              \"app_id\", \"app_domain\", \"app_category\", \"device_id\", \n",
    "              \"device_ip\", \"device_model\"]"
   ]
  },
  {
   "cell_type": "code",
   "execution_count": 44,
   "metadata": {
    "execution": {
     "iopub.execute_input": "2021-01-16T11:30:41.334056Z",
     "iopub.status.busy": "2021-01-16T11:30:41.333202Z",
     "iopub.status.idle": "2021-01-16T11:30:41.335717Z",
     "shell.execute_reply": "2021-01-16T11:30:41.336312Z"
    },
    "papermill": {
     "duration": 0.058101,
     "end_time": "2021-01-16T11:30:41.336460",
     "exception": false,
     "start_time": "2021-01-16T11:30:41.278359",
     "status": "completed"
    },
    "tags": []
   },
   "outputs": [],
   "source": [
    "cat_boost= CatBoostClassifier(learning_rate=0.05, loss_function='Logloss', \n",
    "                             random_state=123, iterations=100, eval_metric=\"Logloss\")"
   ]
  },
  {
   "cell_type": "code",
   "execution_count": 45,
   "metadata": {
    "execution": {
     "iopub.execute_input": "2021-01-16T11:30:44.868600Z",
     "iopub.status.busy": "2021-01-16T11:30:42.726102Z",
     "iopub.status.idle": "2021-01-16T11:34:01.355561Z",
     "shell.execute_reply": "2021-01-16T11:34:01.354595Z"
    },
    "papermill": {
     "duration": 199.97023,
     "end_time": "2021-01-16T11:34:01.355728",
     "exception": false,
     "start_time": "2021-01-16T11:30:41.385498",
     "status": "completed"
    },
    "tags": []
   },
   "outputs": [
    {
     "data": {
      "application/vnd.jupyter.widget-view+json": {
       "model_id": "f27999306e204ba5bdf8909ed026a3a5",
       "version_major": 2,
       "version_minor": 0
      },
      "text/plain": [
       "MetricVisualizer(layout=Layout(align_self='stretch', height='500px'))"
      ]
     },
     "metadata": {},
     "output_type": "display_data"
    },
    {
     "name": "stdout",
     "output_type": "stream",
     "text": [
      "0:\tlearn: 0.6609402\ttest: 0.6605837\tbest: 0.6605837 (0)\ttotal: 1.68s\tremaining: 2m 46s\n",
      "1:\tlearn: 0.6320177\ttest: 0.6313510\tbest: 0.6313510 (1)\ttotal: 2.65s\tremaining: 2m 9s\n",
      "2:\tlearn: 0.6069818\ttest: 0.6062371\tbest: 0.6062371 (2)\ttotal: 3.27s\tremaining: 1m 45s\n",
      "3:\tlearn: 0.5842432\ttest: 0.5834507\tbest: 0.5834507 (3)\ttotal: 3.77s\tremaining: 1m 30s\n",
      "4:\tlearn: 0.5640605\ttest: 0.5630565\tbest: 0.5630565 (4)\ttotal: 4.25s\tremaining: 1m 20s\n",
      "5:\tlearn: 0.5476820\ttest: 0.5465972\tbest: 0.5465972 (5)\ttotal: 4.67s\tremaining: 1m 13s\n",
      "6:\tlearn: 0.5323220\ttest: 0.5310886\tbest: 0.5310886 (6)\ttotal: 5.31s\tremaining: 1m 10s\n",
      "7:\tlearn: 0.5186251\ttest: 0.5172567\tbest: 0.5172567 (7)\ttotal: 5.83s\tremaining: 1m 7s\n",
      "8:\tlearn: 0.5070250\ttest: 0.5056163\tbest: 0.5056163 (8)\ttotal: 6.33s\tremaining: 1m 3s\n",
      "9:\tlearn: 0.4961139\ttest: 0.4946915\tbest: 0.4946915 (9)\ttotal: 6.83s\tremaining: 1m 1s\n",
      "10:\tlearn: 0.4865851\ttest: 0.4851100\tbest: 0.4851100 (10)\ttotal: 7.29s\tremaining: 59s\n",
      "11:\tlearn: 0.4788408\ttest: 0.4773520\tbest: 0.4773520 (11)\ttotal: 7.77s\tremaining: 57s\n",
      "12:\tlearn: 0.4716334\ttest: 0.4701394\tbest: 0.4701394 (12)\ttotal: 8.31s\tremaining: 55.7s\n",
      "13:\tlearn: 0.4646547\ttest: 0.4631020\tbest: 0.4631020 (13)\ttotal: 8.79s\tremaining: 54s\n",
      "14:\tlearn: 0.4585976\ttest: 0.4570034\tbest: 0.4570034 (14)\ttotal: 9.28s\tremaining: 52.6s\n",
      "15:\tlearn: 0.4539816\ttest: 0.4523953\tbest: 0.4523953 (15)\ttotal: 9.76s\tremaining: 51.2s\n",
      "16:\tlearn: 0.4494373\ttest: 0.4478478\tbest: 0.4478478 (16)\ttotal: 10.2s\tremaining: 50s\n",
      "17:\tlearn: 0.4453720\ttest: 0.4437511\tbest: 0.4437511 (17)\ttotal: 10.7s\tremaining: 48.8s\n",
      "18:\tlearn: 0.4417013\ttest: 0.4400683\tbest: 0.4400683 (18)\ttotal: 11.2s\tremaining: 47.7s\n",
      "19:\tlearn: 0.4383096\ttest: 0.4366162\tbest: 0.4366162 (19)\ttotal: 11.7s\tremaining: 46.6s\n",
      "20:\tlearn: 0.4350214\ttest: 0.4333293\tbest: 0.4333293 (20)\ttotal: 12.1s\tremaining: 45.6s\n",
      "21:\tlearn: 0.4326100\ttest: 0.4309308\tbest: 0.4309308 (21)\ttotal: 12.6s\tremaining: 44.6s\n",
      "22:\tlearn: 0.4299713\ttest: 0.4282601\tbest: 0.4282601 (22)\ttotal: 13.1s\tremaining: 43.7s\n",
      "23:\tlearn: 0.4278437\ttest: 0.4261122\tbest: 0.4261122 (23)\ttotal: 13.6s\tremaining: 42.9s\n",
      "24:\tlearn: 0.4258627\ttest: 0.4240932\tbest: 0.4240932 (24)\ttotal: 14.1s\tremaining: 42.2s\n",
      "25:\tlearn: 0.4240724\ttest: 0.4222962\tbest: 0.4222962 (25)\ttotal: 14.5s\tremaining: 41.3s\n",
      "26:\tlearn: 0.4224740\ttest: 0.4206899\tbest: 0.4206899 (26)\ttotal: 15s\tremaining: 40.5s\n",
      "27:\tlearn: 0.4211239\ttest: 0.4193670\tbest: 0.4193670 (27)\ttotal: 15.5s\tremaining: 39.8s\n",
      "28:\tlearn: 0.4197169\ttest: 0.4179573\tbest: 0.4179573 (28)\ttotal: 15.9s\tremaining: 38.9s\n",
      "29:\tlearn: 0.4183775\ttest: 0.4165866\tbest: 0.4165866 (29)\ttotal: 16.4s\tremaining: 38.3s\n",
      "30:\tlearn: 0.4174674\ttest: 0.4156811\tbest: 0.4156811 (30)\ttotal: 16.9s\tremaining: 37.6s\n",
      "31:\tlearn: 0.4163640\ttest: 0.4145694\tbest: 0.4145694 (31)\ttotal: 17.4s\tremaining: 37s\n",
      "32:\tlearn: 0.4154881\ttest: 0.4136995\tbest: 0.4136995 (32)\ttotal: 18s\tremaining: 36.5s\n",
      "33:\tlearn: 0.4147164\ttest: 0.4129156\tbest: 0.4129156 (33)\ttotal: 18.5s\tremaining: 35.9s\n",
      "34:\tlearn: 0.4141304\ttest: 0.4123382\tbest: 0.4123382 (34)\ttotal: 19s\tremaining: 35.3s\n",
      "35:\tlearn: 0.4134360\ttest: 0.4116362\tbest: 0.4116362 (35)\ttotal: 19.5s\tremaining: 34.6s\n",
      "36:\tlearn: 0.4126908\ttest: 0.4108792\tbest: 0.4108792 (36)\ttotal: 20s\tremaining: 34s\n",
      "37:\tlearn: 0.4121925\ttest: 0.4103756\tbest: 0.4103756 (37)\ttotal: 20.4s\tremaining: 33.3s\n",
      "38:\tlearn: 0.4117527\ttest: 0.4099387\tbest: 0.4099387 (38)\ttotal: 20.9s\tremaining: 32.7s\n",
      "39:\tlearn: 0.4112803\ttest: 0.4094663\tbest: 0.4094663 (39)\ttotal: 21.5s\tremaining: 32.2s\n",
      "40:\tlearn: 0.4109258\ttest: 0.4091069\tbest: 0.4091069 (40)\ttotal: 22.1s\tremaining: 31.7s\n",
      "41:\tlearn: 0.4103984\ttest: 0.4085714\tbest: 0.4085714 (41)\ttotal: 22.7s\tremaining: 31.3s\n",
      "42:\tlearn: 0.4099987\ttest: 0.4081629\tbest: 0.4081629 (42)\ttotal: 23.3s\tremaining: 30.9s\n",
      "43:\tlearn: 0.4096041\ttest: 0.4077561\tbest: 0.4077561 (43)\ttotal: 23.8s\tremaining: 30.3s\n",
      "44:\tlearn: 0.4093262\ttest: 0.4074891\tbest: 0.4074891 (44)\ttotal: 24.4s\tremaining: 29.8s\n",
      "45:\tlearn: 0.4089486\ttest: 0.4071070\tbest: 0.4071070 (45)\ttotal: 25s\tremaining: 29.3s\n",
      "46:\tlearn: 0.4086603\ttest: 0.4068215\tbest: 0.4068215 (46)\ttotal: 25.5s\tremaining: 28.8s\n",
      "47:\tlearn: 0.4083303\ttest: 0.4064918\tbest: 0.4064918 (47)\ttotal: 26.1s\tremaining: 28.3s\n",
      "48:\tlearn: 0.4080339\ttest: 0.4061867\tbest: 0.4061867 (48)\ttotal: 26.6s\tremaining: 27.7s\n",
      "49:\tlearn: 0.4077402\ttest: 0.4058893\tbest: 0.4058893 (49)\ttotal: 27.1s\tremaining: 27.1s\n",
      "50:\tlearn: 0.4075306\ttest: 0.4056746\tbest: 0.4056746 (50)\ttotal: 27.6s\tremaining: 26.5s\n",
      "51:\tlearn: 0.4073540\ttest: 0.4054965\tbest: 0.4054965 (51)\ttotal: 28.2s\tremaining: 26s\n",
      "52:\tlearn: 0.4071968\ttest: 0.4053367\tbest: 0.4053367 (52)\ttotal: 28.7s\tremaining: 25.5s\n",
      "53:\tlearn: 0.4069923\ttest: 0.4051350\tbest: 0.4051350 (53)\ttotal: 29.4s\tremaining: 25s\n",
      "54:\tlearn: 0.4068690\ttest: 0.4050032\tbest: 0.4050032 (54)\ttotal: 30s\tremaining: 24.6s\n",
      "55:\tlearn: 0.4067339\ttest: 0.4048370\tbest: 0.4048370 (55)\ttotal: 30.6s\tremaining: 24.1s\n",
      "56:\tlearn: 0.4065631\ttest: 0.4046582\tbest: 0.4046582 (56)\ttotal: 31.2s\tremaining: 23.6s\n",
      "57:\tlearn: 0.4064017\ttest: 0.4044839\tbest: 0.4044839 (57)\ttotal: 31.8s\tremaining: 23s\n",
      "58:\tlearn: 0.4062732\ttest: 0.4043583\tbest: 0.4043583 (58)\ttotal: 32.3s\tremaining: 22.5s\n",
      "59:\tlearn: 0.4061019\ttest: 0.4041524\tbest: 0.4041524 (59)\ttotal: 32.9s\tremaining: 22s\n",
      "60:\tlearn: 0.4059612\ttest: 0.4039942\tbest: 0.4039942 (60)\ttotal: 33.5s\tremaining: 21.4s\n",
      "61:\tlearn: 0.4058319\ttest: 0.4038493\tbest: 0.4038493 (61)\ttotal: 34.1s\tremaining: 20.9s\n",
      "62:\tlearn: 0.4057055\ttest: 0.4036959\tbest: 0.4036959 (62)\ttotal: 34.7s\tremaining: 20.4s\n",
      "63:\tlearn: 0.4056276\ttest: 0.4036178\tbest: 0.4036178 (63)\ttotal: 35.3s\tremaining: 19.8s\n",
      "64:\tlearn: 0.4055567\ttest: 0.4035425\tbest: 0.4035425 (64)\ttotal: 35.8s\tremaining: 19.3s\n",
      "65:\tlearn: 0.4054764\ttest: 0.4034550\tbest: 0.4034550 (65)\ttotal: 36.4s\tremaining: 18.8s\n",
      "66:\tlearn: 0.4053776\ttest: 0.4033527\tbest: 0.4033527 (66)\ttotal: 37s\tremaining: 18.2s\n",
      "67:\tlearn: 0.4052720\ttest: 0.4032420\tbest: 0.4032420 (67)\ttotal: 37.5s\tremaining: 17.7s\n",
      "68:\tlearn: 0.4051334\ttest: 0.4030828\tbest: 0.4030828 (68)\ttotal: 38.3s\tremaining: 17.2s\n",
      "69:\tlearn: 0.4050283\ttest: 0.4029594\tbest: 0.4029594 (69)\ttotal: 38.8s\tremaining: 16.6s\n",
      "70:\tlearn: 0.4049232\ttest: 0.4028232\tbest: 0.4028232 (70)\ttotal: 39.3s\tremaining: 16s\n",
      "71:\tlearn: 0.4047946\ttest: 0.4026518\tbest: 0.4026518 (71)\ttotal: 39.8s\tremaining: 15.5s\n",
      "72:\tlearn: 0.4046798\ttest: 0.4025141\tbest: 0.4025141 (72)\ttotal: 40.2s\tremaining: 14.9s\n",
      "73:\tlearn: 0.4046086\ttest: 0.4024208\tbest: 0.4024208 (73)\ttotal: 40.7s\tremaining: 14.3s\n",
      "74:\tlearn: 0.4045540\ttest: 0.4023468\tbest: 0.4023468 (74)\ttotal: 41.2s\tremaining: 13.7s\n",
      "75:\tlearn: 0.4044688\ttest: 0.4022353\tbest: 0.4022353 (75)\ttotal: 41.6s\tremaining: 13.2s\n",
      "76:\tlearn: 0.4043886\ttest: 0.4021563\tbest: 0.4021563 (76)\ttotal: 42.2s\tremaining: 12.6s\n",
      "77:\tlearn: 0.4043177\ttest: 0.4020735\tbest: 0.4020735 (77)\ttotal: 42.7s\tremaining: 12s\n",
      "78:\tlearn: 0.4042337\ttest: 0.4019869\tbest: 0.4019869 (78)\ttotal: 43.3s\tremaining: 11.5s\n",
      "79:\tlearn: 0.4041645\ttest: 0.4019205\tbest: 0.4019205 (79)\ttotal: 43.9s\tremaining: 11s\n",
      "80:\tlearn: 0.4040786\ttest: 0.4018060\tbest: 0.4018060 (80)\ttotal: 44.5s\tremaining: 10.4s\n",
      "81:\tlearn: 0.4040111\ttest: 0.4017265\tbest: 0.4017265 (81)\ttotal: 45s\tremaining: 9.87s\n",
      "82:\tlearn: 0.4039362\ttest: 0.4016459\tbest: 0.4016459 (82)\ttotal: 45.5s\tremaining: 9.33s\n",
      "83:\tlearn: 0.4038955\ttest: 0.4015904\tbest: 0.4015904 (83)\ttotal: 46.1s\tremaining: 8.78s\n",
      "84:\tlearn: 0.4038516\ttest: 0.4015433\tbest: 0.4015433 (84)\ttotal: 46.7s\tremaining: 8.24s\n",
      "85:\tlearn: 0.4037996\ttest: 0.4014878\tbest: 0.4014878 (85)\ttotal: 47.2s\tremaining: 7.69s\n",
      "86:\tlearn: 0.4037390\ttest: 0.4014007\tbest: 0.4014007 (86)\ttotal: 47.8s\tremaining: 7.14s\n",
      "87:\tlearn: 0.4036830\ttest: 0.4013331\tbest: 0.4013331 (87)\ttotal: 48.3s\tremaining: 6.59s\n",
      "88:\tlearn: 0.4036322\ttest: 0.4012639\tbest: 0.4012639 (88)\ttotal: 48.9s\tremaining: 6.04s\n",
      "89:\tlearn: 0.4035701\ttest: 0.4011978\tbest: 0.4011978 (89)\ttotal: 49.5s\tremaining: 5.5s\n",
      "90:\tlearn: 0.4035216\ttest: 0.4011504\tbest: 0.4011504 (90)\ttotal: 50s\tremaining: 4.95s\n",
      "91:\tlearn: 0.4034713\ttest: 0.4011000\tbest: 0.4011000 (91)\ttotal: 50.7s\tremaining: 4.4s\n",
      "92:\tlearn: 0.4034080\ttest: 0.4010220\tbest: 0.4010220 (92)\ttotal: 51.2s\tremaining: 3.86s\n",
      "93:\tlearn: 0.4033452\ttest: 0.4009571\tbest: 0.4009571 (93)\ttotal: 51.8s\tremaining: 3.31s\n",
      "94:\tlearn: 0.4032984\ttest: 0.4009065\tbest: 0.4009065 (94)\ttotal: 52.3s\tremaining: 2.75s\n",
      "95:\tlearn: 0.4032534\ttest: 0.4008560\tbest: 0.4008560 (95)\ttotal: 52.9s\tremaining: 2.2s\n",
      "96:\tlearn: 0.4032158\ttest: 0.4008191\tbest: 0.4008191 (96)\ttotal: 53.4s\tremaining: 1.65s\n",
      "97:\tlearn: 0.4031732\ttest: 0.4007712\tbest: 0.4007712 (97)\ttotal: 54s\tremaining: 1.1s\n",
      "98:\tlearn: 0.4031389\ttest: 0.4007332\tbest: 0.4007332 (98)\ttotal: 54.6s\tremaining: 551ms\n",
      "99:\tlearn: 0.4031159\ttest: 0.4007088\tbest: 0.4007088 (99)\ttotal: 55s\tremaining: 0us\n",
      "\n",
      "bestTest = 0.4007088346\n",
      "bestIteration = 99\n",
      "\n"
     ]
    },
    {
     "data": {
      "text/plain": [
       "<catboost.core.CatBoostClassifier at 0x1e38fc9cbe0>"
      ]
     },
     "execution_count": 45,
     "metadata": {},
     "output_type": "execute_result"
    }
   ],
   "source": [
    "cat_boost.fit(X_train, y_train, eval_set=(X_test, y_test), cat_features= cat_features, plot=True)"
   ]
  },
  {
   "cell_type": "code",
   "execution_count": 50,
   "metadata": {
    "execution": {
     "iopub.execute_input": "2021-01-16T11:34:01.561258Z",
     "iopub.status.busy": "2021-01-16T11:34:01.560294Z",
     "iopub.status.idle": "2021-01-16T11:34:01.571132Z",
     "shell.execute_reply": "2021-01-16T11:34:01.570552Z"
    },
    "papermill": {
     "duration": 0.114351,
     "end_time": "2021-01-16T11:34:01.571241",
     "exception": false,
     "start_time": "2021-01-16T11:34:01.456890",
     "status": "completed"
    },
    "tags": []
   },
   "outputs": [],
   "source": [
    "c= cat_boost.get_feature_importance(prettified=True).sort_index(ascending=True)\n"
   ]
  },
  {
   "cell_type": "code",
   "execution_count": 51,
   "metadata": {
    "execution": {
     "iopub.execute_input": "2021-01-16T11:34:01.776950Z",
     "iopub.status.busy": "2021-01-16T11:34:01.776165Z",
     "iopub.status.idle": "2021-01-16T11:34:02.038466Z",
     "shell.execute_reply": "2021-01-16T11:34:02.037139Z"
    },
    "papermill": {
     "duration": 0.367217,
     "end_time": "2021-01-16T11:34:02.038607",
     "exception": false,
     "start_time": "2021-01-16T11:34:01.671390",
     "status": "completed"
    },
    "tags": []
   },
   "outputs": [],
   "source": [
    "c.to_csv(\"feature_imp.csv\")"
   ]
  },
  {
   "cell_type": "code",
   "execution_count": 52,
   "metadata": {
    "execution": {
     "iopub.execute_input": "2021-01-16T11:34:05.262242Z",
     "iopub.status.busy": "2021-01-16T11:34:03.812653Z",
     "iopub.status.idle": "2021-01-16T11:34:07.321935Z",
     "shell.execute_reply": "2021-01-16T11:34:07.322883Z"
    },
    "papermill": {
     "duration": 5.18507,
     "end_time": "2021-01-16T11:34:07.323096",
     "exception": false,
     "start_time": "2021-01-16T11:34:02.138026",
     "status": "completed"
    },
    "tags": []
   },
   "outputs": [],
   "source": [
    "predictions= cat_boost.predict(X_test, prediction_type=\"Class\", ntree_start=0, ntree_end= cat_boost.get_best_iteration(),thread_count=-1, \n",
    "                               verbose=None)"
   ]
  },
  {
   "cell_type": "code",
   "execution_count": 53,
   "metadata": {
    "execution": {
     "iopub.execute_input": "2021-01-16T11:34:07.868333Z",
     "iopub.status.busy": "2021-01-16T11:34:07.867414Z",
     "iopub.status.idle": "2021-01-16T11:34:07.874140Z",
     "shell.execute_reply": "2021-01-16T11:34:07.874734Z"
    },
    "papermill": {
     "duration": 0.15054,
     "end_time": "2021-01-16T11:34:07.874882",
     "exception": false,
     "start_time": "2021-01-16T11:34:07.724342",
     "status": "completed"
    },
    "tags": []
   },
   "outputs": [
    {
     "data": {
      "text/plain": [
       "array([0, 0, 0, ..., 0, 0, 0], dtype=int64)"
      ]
     },
     "execution_count": 53,
     "metadata": {},
     "output_type": "execute_result"
    }
   ],
   "source": [
    "predictions\n"
   ]
  },
  {
   "cell_type": "code",
   "execution_count": 55,
   "metadata": {},
   "outputs": [
    {
     "name": "stdout",
     "output_type": "stream",
     "text": [
      "          Feature Id  Importances\n",
      "0            site_id    34.426675\n",
      "1             app_id    30.065199\n",
      "2        site_domain    11.042191\n",
      "3       device_model     4.673463\n",
      "4                C21     4.134558\n",
      "5         app_domain     2.116466\n",
      "6          device_id     2.050874\n",
      "7          device_ip     1.784473\n",
      "8      site_category     1.668149\n",
      "9                C14     1.423609\n",
      "10               C18     1.238637\n",
      "11   actual_hour_day     0.874602\n",
      "12        banner_pos     0.831290\n",
      "13  device_conn_type     0.805420\n",
      "14               C19     0.770364\n",
      "15               C17     0.583256\n",
      "16               C20     0.545365\n",
      "17               C16     0.399261\n",
      "18      app_category     0.286755\n",
      "19               C15     0.128251\n",
      "20              hour     0.115336\n",
      "21                C1     0.028879\n",
      "22       device_type     0.006927\n",
      "23                id     0.000000\n"
     ]
    }
   ],
   "source": [
    "print(c)"
   ]
  },
  {
   "cell_type": "code",
   "execution_count": 56,
   "metadata": {},
   "outputs": [
    {
     "name": "stdout",
     "output_type": "stream",
     "text": [
      "[0 0 0 ... 0 0 0]\n"
     ]
    }
   ],
   "source": [
    "print(predictions)"
   ]
  },
  {
   "cell_type": "code",
   "execution_count": null,
   "metadata": {},
   "outputs": [],
   "source": []
  },
  {
   "cell_type": "code",
   "execution_count": null,
   "metadata": {},
   "outputs": [],
   "source": []
  }
 ],
 "metadata": {
  "kernelspec": {
   "display_name": "Python 3",
   "language": "python",
   "name": "python3"
  },
  "language_info": {
   "codemirror_mode": {
    "name": "ipython",
    "version": 3
   },
   "file_extension": ".py",
   "mimetype": "text/x-python",
   "name": "python",
   "nbconvert_exporter": "python",
   "pygments_lexer": "ipython3",
   "version": "3.8.8"
  },
  "papermill": {
   "duration": 428.012299,
   "end_time": "2021-01-16T11:34:08.329165",
   "environment_variables": {},
   "exception": null,
   "input_path": "__notebook__.ipynb",
   "output_path": "__notebook__.ipynb",
   "parameters": {},
   "start_time": "2021-01-16T11:27:00.316866",
   "version": "2.1.0"
  },
  "widgets": {
   "application/vnd.jupyter.widget-state+json": {
    "state": {
     "3521757666a34888b1b775bd8492e1f9": {
      "model_module": "@jupyter-widgets/base",
      "model_module_version": "1.2.0",
      "model_name": "LayoutModel",
      "state": {
       "_model_module": "@jupyter-widgets/base",
       "_model_module_version": "1.2.0",
       "_model_name": "LayoutModel",
       "_view_count": null,
       "_view_module": "@jupyter-widgets/base",
       "_view_module_version": "1.2.0",
       "_view_name": "LayoutView",
       "align_content": null,
       "align_items": null,
       "align_self": "stretch",
       "border": null,
       "bottom": null,
       "display": null,
       "flex": null,
       "flex_flow": null,
       "grid_area": null,
       "grid_auto_columns": null,
       "grid_auto_flow": null,
       "grid_auto_rows": null,
       "grid_column": null,
       "grid_gap": null,
       "grid_row": null,
       "grid_template_areas": null,
       "grid_template_columns": null,
       "grid_template_rows": null,
       "height": "500px",
       "justify_content": null,
       "justify_items": null,
       "left": null,
       "margin": null,
       "max_height": null,
       "max_width": null,
       "min_height": null,
       "min_width": null,
       "object_fit": null,
       "object_position": null,
       "order": null,
       "overflow": null,
       "overflow_x": null,
       "overflow_y": null,
       "padding": null,
       "right": null,
       "top": null,
       "visibility": null,
       "width": null
      }
     },
     "549489f3f67643cb9c8d5c4f4fe658c2": {
      "model_module": "@jupyter-widgets/base",
      "model_module_version": "1.2.0",
      "model_name": "DOMWidgetModel",
      "state": {
       "_dom_classes": [],
       "_model_module": "@jupyter-widgets/base",
       "_model_module_version": "1.2.0",
       "_model_name": "DOMWidgetModel",
       "_view_count": null,
       "_view_module": "catboost_module",
       "_view_module_version": "",
       "_view_name": "CatboostIpythonWidgetView",
       "data": {
        "catboost_info": {
         "content": {
          "data": {
           "iterations": [
            {
             "iteration": 0,
             "learn": [
              0.6609401977
             ],
             "passed_time": 2.264773871,
             "remaining_time": 224.2126133,
             "test": [
              0.6605837363
             ]
            },
            {
             "iteration": 1,
             "learn": [
              0.6320176993
             ],
             "passed_time": 4.743615793,
             "remaining_time": 232.4371738,
             "test": [
              0.6313509829
             ]
            },
            {
             "iteration": 2,
             "learn": [
              0.6069818262
             ],
             "passed_time": 6.294670231,
             "remaining_time": 203.5276708,
             "test": [
              0.6062370718
             ]
            },
            {
             "iteration": 3,
             "learn": [
              0.5842431856
             ],
             "passed_time": 7.888877395,
             "remaining_time": 189.3330575,
             "test": [
              0.5834507247
             ]
            },
            {
             "iteration": 4,
             "learn": [
              0.564060454
             ],
             "passed_time": 10.73191226,
             "remaining_time": 203.9063329,
             "test": [
              0.5630565295
             ]
            },
            {
             "iteration": 5,
             "learn": [
              0.5476820229
             ],
             "passed_time": 12.18407691,
             "remaining_time": 190.8838716,
             "test": [
              0.5465971848
             ]
            },
            {
             "iteration": 6,
             "learn": [
              0.5323220355
             ],
             "passed_time": 14.42257155,
             "remaining_time": 191.6141649,
             "test": [
              0.5310886441
             ]
            },
            {
             "iteration": 7,
             "learn": [
              0.5186250593
             ],
             "passed_time": 17.05163459,
             "remaining_time": 196.0937978,
             "test": [
              0.5172566808
             ]
            },
            {
             "iteration": 8,
             "learn": [
              0.5070249812
             ],
             "passed_time": 18.74539521,
             "remaining_time": 189.5367738,
             "test": [
              0.5056163378
             ]
            },
            {
             "iteration": 9,
             "learn": [
              0.4961139393
             ],
             "passed_time": 20.55446513,
             "remaining_time": 184.9901862,
             "test": [
              0.4946915097
             ]
            },
            {
             "iteration": 10,
             "learn": [
              0.4865851341
             ],
             "passed_time": 22.20630809,
             "remaining_time": 179.66922,
             "test": [
              0.4851099875
             ]
            },
            {
             "iteration": 11,
             "learn": [
              0.4788408321
             ],
             "passed_time": 23.8285264,
             "remaining_time": 174.7425269,
             "test": [
              0.4773519613
             ]
            },
            {
             "iteration": 12,
             "learn": [
              0.471633396
             ],
             "passed_time": 26.07921597,
             "remaining_time": 174.5301376,
             "test": [
              0.470139399
             ]
            },
            {
             "iteration": 13,
             "learn": [
              0.4646546744
             ],
             "passed_time": 27.62626345,
             "remaining_time": 169.7041898,
             "test": [
              0.4631019659
             ]
            },
            {
             "iteration": 14,
             "learn": [
              0.4585976397
             ],
             "passed_time": 29.2103635,
             "remaining_time": 165.5253931,
             "test": [
              0.4570033505
             ]
            },
            {
             "iteration": 15,
             "learn": [
              0.4539816082
             ],
             "passed_time": 30.71240479,
             "remaining_time": 161.2401251,
             "test": [
              0.4523952858
             ]
            },
            {
             "iteration": 16,
             "learn": [
              0.4494373324
             ],
             "passed_time": 32.3978471,
             "remaining_time": 158.1777241,
             "test": [
              0.4478477876
             ]
            },
            {
             "iteration": 17,
             "learn": [
              0.4453719574
             ],
             "passed_time": 33.99139568,
             "remaining_time": 154.8496914,
             "test": [
              0.4437511139
             ]
            },
            {
             "iteration": 18,
             "learn": [
              0.4417013287
             ],
             "passed_time": 35.98095945,
             "remaining_time": 153.3925113,
             "test": [
              0.4400682693
             ]
            },
            {
             "iteration": 19,
             "learn": [
              0.4383096405
             ],
             "passed_time": 37.73686864,
             "remaining_time": 150.9474746,
             "test": [
              0.4366161548
             ]
            },
            {
             "iteration": 20,
             "learn": [
              0.4350213688
             ],
             "passed_time": 39.49793779,
             "remaining_time": 148.5874802,
             "test": [
              0.4333293213
             ]
            },
            {
             "iteration": 21,
             "learn": [
              0.4326100189
             ],
             "passed_time": 41.19972386,
             "remaining_time": 146.0717482,
             "test": [
              0.4309307977
             ]
            },
            {
             "iteration": 22,
             "learn": [
              0.4299713462
             ],
             "passed_time": 43.3949415,
             "remaining_time": 145.2787172,
             "test": [
              0.428260068
             ]
            },
            {
             "iteration": 23,
             "learn": [
              0.42784372
             ],
             "passed_time": 45.02090414,
             "remaining_time": 142.5661965,
             "test": [
              0.4261121786
             ]
            },
            {
             "iteration": 24,
             "learn": [
              0.4258627444
             ],
             "passed_time": 47.19773706,
             "remaining_time": 141.5932112,
             "test": [
              0.4240931987
             ]
            },
            {
             "iteration": 25,
             "learn": [
              0.4240723646
             ],
             "passed_time": 48.95900681,
             "remaining_time": 139.3448655,
             "test": [
              0.4222961955
             ]
            },
            {
             "iteration": 26,
             "learn": [
              0.4224740155
             ],
             "passed_time": 50.53203952,
             "remaining_time": 136.6236624,
             "test": [
              0.4206898663
             ]
            },
            {
             "iteration": 27,
             "learn": [
              0.421123891
             ],
             "passed_time": 52.08742115,
             "remaining_time": 133.939083,
             "test": [
              0.4193670217
             ]
            },
            {
             "iteration": 28,
             "learn": [
              0.41971687
             ],
             "passed_time": 53.63345549,
             "remaining_time": 131.3094945,
             "test": [
              0.4179572912
             ]
            },
            {
             "iteration": 29,
             "learn": [
              0.4183774726
             ],
             "passed_time": 55.20706423,
             "remaining_time": 128.8164832,
             "test": [
              0.4165865963
             ]
            },
            {
             "iteration": 30,
             "learn": [
              0.4174673667
             ],
             "passed_time": 56.74185091,
             "remaining_time": 126.2963778,
             "test": [
              0.4156811029
             ]
            },
            {
             "iteration": 31,
             "learn": [
              0.416363995
             ],
             "passed_time": 59.02246498,
             "remaining_time": 125.4227381,
             "test": [
              0.4145694492
             ]
            },
            {
             "iteration": 32,
             "learn": [
              0.4154880878
             ],
             "passed_time": 60.59431728,
             "remaining_time": 123.024826,
             "test": [
              0.4136995413
             ]
            },
            {
             "iteration": 33,
             "learn": [
              0.4147163936
             ],
             "passed_time": 62.07339983,
             "remaining_time": 120.4954232,
             "test": [
              0.4129155606
             ]
            },
            {
             "iteration": 34,
             "learn": [
              0.414130384
             ],
             "passed_time": 63.64250989,
             "remaining_time": 118.1932327,
             "test": [
              0.4123381621
             ]
            },
            {
             "iteration": 35,
             "learn": [
              0.4134359803
             ],
             "passed_time": 65.18070015,
             "remaining_time": 115.8768003,
             "test": [
              0.4116361829
             ]
            },
            {
             "iteration": 36,
             "learn": [
              0.4126907505
             ],
             "passed_time": 66.91380771,
             "remaining_time": 113.9343212,
             "test": [
              0.410879216
             ]
            },
            {
             "iteration": 37,
             "learn": [
              0.4121925443
             ],
             "passed_time": 68.92606034,
             "remaining_time": 112.458309,
             "test": [
              0.4103756187
             ]
            },
            {
             "iteration": 38,
             "learn": [
              0.4117527226
             ],
             "passed_time": 71.4974735,
             "remaining_time": 111.8293816,
             "test": [
              0.4099386695
             ]
            },
            {
             "iteration": 39,
             "learn": [
              0.4112803255
             ],
             "passed_time": 73.18998501,
             "remaining_time": 109.7849775,
             "test": [
              0.4094662728
             ]
            },
            {
             "iteration": 40,
             "learn": [
              0.4109258029
             ],
             "passed_time": 75.82653043,
             "remaining_time": 109.1162267,
             "test": [
              0.4091069049
             ]
            },
            {
             "iteration": 41,
             "learn": [
              0.410398446
             ],
             "passed_time": 77.57085505,
             "remaining_time": 107.121657,
             "test": [
              0.4085714211
             ]
            },
            {
             "iteration": 42,
             "learn": [
              0.4099986782
             ],
             "passed_time": 79.31096663,
             "remaining_time": 105.1331418,
             "test": [
              0.4081629351
             ]
            },
            {
             "iteration": 43,
             "learn": [
              0.4096040984
             ],
             "passed_time": 81.63017971,
             "remaining_time": 103.892956,
             "test": [
              0.4077560795
             ]
            },
            {
             "iteration": 44,
             "learn": [
              0.4093261934
             ],
             "passed_time": 83.23010645,
             "remaining_time": 101.7256857,
             "test": [
              0.4074891186
             ]
            },
            {
             "iteration": 45,
             "learn": [
              0.4089486172
             ],
             "passed_time": 84.91794107,
             "remaining_time": 99.68627865,
             "test": [
              0.407106988
             ]
            },
            {
             "iteration": 46,
             "learn": [
              0.4086602734
             ],
             "passed_time": 86.48982349,
             "remaining_time": 97.53107755,
             "test": [
              0.4068214693
             ]
            },
            {
             "iteration": 47,
             "learn": [
              0.4083303137
             ],
             "passed_time": 88.06750144,
             "remaining_time": 95.40645989,
             "test": [
              0.4064917585
             ]
            },
            {
             "iteration": 48,
             "learn": [
              0.408033878
             ],
             "passed_time": 89.67799495,
             "remaining_time": 93.33832128,
             "test": [
              0.4061867429
             ]
            },
            {
             "iteration": 49,
             "learn": [
              0.4077401958
             ],
             "passed_time": 91.95678127,
             "remaining_time": 91.95678127,
             "test": [
              0.4058893076
             ]
            },
            {
             "iteration": 50,
             "learn": [
              0.4075305982
             ],
             "passed_time": 93.53602526,
             "remaining_time": 89.86794584,
             "test": [
              0.4056745907
             ]
            },
            {
             "iteration": 51,
             "learn": [
              0.4073540305
             ],
             "passed_time": 95.27596668,
             "remaining_time": 87.94704617,
             "test": [
              0.4054965121
             ]
            },
            {
             "iteration": 52,
             "learn": [
              0.4071968255
             ],
             "passed_time": 96.95443873,
             "remaining_time": 85.97846454,
             "test": [
              0.4053367441
             ]
            },
            {
             "iteration": 53,
             "learn": [
              0.4069923173
             ],
             "passed_time": 98.7619566,
             "remaining_time": 84.13055562,
             "test": [
              0.4051349742
             ]
            },
            {
             "iteration": 54,
             "learn": [
              0.4068690072
             ],
             "passed_time": 100.4992999,
             "remaining_time": 82.2266999,
             "test": [
              0.4050032082
             ]
            },
            {
             "iteration": 55,
             "learn": [
              0.4067338717
             ],
             "passed_time": 102.8254754,
             "remaining_time": 80.79144496,
             "test": [
              0.4048370503
             ]
            },
            {
             "iteration": 56,
             "learn": [
              0.4065631344
             ],
             "passed_time": 104.5532101,
             "remaining_time": 78.87347432,
             "test": [
              0.4046581874
             ]
            },
            {
             "iteration": 57,
             "learn": [
              0.4064016895
             ],
             "passed_time": 106.1690179,
             "remaining_time": 76.88101294,
             "test": [
              0.4044839147
             ]
            },
            {
             "iteration": 58,
             "learn": [
              0.4062731912
             ],
             "passed_time": 108.4840073,
             "remaining_time": 75.38719152,
             "test": [
              0.40435834
             ]
            },
            {
             "iteration": 59,
             "learn": [
              0.4061018627
             ],
             "passed_time": 110.2618351,
             "remaining_time": 73.50789004,
             "test": [
              0.4041524161
             ]
            },
            {
             "iteration": 60,
             "learn": [
              0.4059611693
             ],
             "passed_time": 111.7966994,
             "remaining_time": 71.47657829,
             "test": [
              0.4039941577
             ]
            },
            {
             "iteration": 61,
             "learn": [
              0.4058318875
             ],
             "passed_time": 114.1099539,
             "remaining_time": 69.93835886,
             "test": [
              0.4038492763
             ]
            },
            {
             "iteration": 62,
             "learn": [
              0.4057055323
             ],
             "passed_time": 115.8020181,
             "remaining_time": 68.01070907,
             "test": [
              0.4036959221
             ]
            },
            {
             "iteration": 63,
             "learn": [
              0.4056276374
             ],
             "passed_time": 117.5014608,
             "remaining_time": 66.09457169,
             "test": [
              0.4036177512
             ]
            },
            {
             "iteration": 64,
             "learn": [
              0.4055566946
             ],
             "passed_time": 119.2179412,
             "remaining_time": 64.19427604,
             "test": [
              0.4035425002
             ]
            },
            {
             "iteration": 65,
             "learn": [
              0.405476363
             ],
             "passed_time": 120.9339099,
             "remaining_time": 62.29928693,
             "test": [
              0.4034550272
             ]
            },
            {
             "iteration": 66,
             "learn": [
              0.4053775657
             ],
             "passed_time": 122.5484535,
             "remaining_time": 60.35968605,
             "test": [
              0.4033526733
             ]
            },
            {
             "iteration": 67,
             "learn": [
              0.4052719731
             ],
             "passed_time": 124.8585733,
             "remaining_time": 58.75697568,
             "test": [
              0.4032419711
             ]
            },
            {
             "iteration": 68,
             "learn": [
              0.4051333925
             ],
             "passed_time": 126.5636237,
             "remaining_time": 56.86191789,
             "test": [
              0.4030828168
             ]
            },
            {
             "iteration": 69,
             "learn": [
              0.4050283207
             ],
             "passed_time": 128.2358127,
             "remaining_time": 54.95820545,
             "test": [
              0.4029594145
             ]
            },
            {
             "iteration": 70,
             "learn": [
              0.404923175
             ],
             "passed_time": 130.2940619,
             "remaining_time": 53.21870135,
             "test": [
              0.402823156
             ]
            },
            {
             "iteration": 71,
             "learn": [
              0.4047945555
             ],
             "passed_time": 132.0762299,
             "remaining_time": 51.3629783,
             "test": [
              0.4026518219
             ]
            },
            {
             "iteration": 72,
             "learn": [
              0.4046797569
             ],
             "passed_time": 133.811875,
             "remaining_time": 49.49206334,
             "test": [
              0.4025140669
             ]
            },
            {
             "iteration": 73,
             "learn": [
              0.4046086321
             ],
             "passed_time": 136.546363,
             "remaining_time": 47.97574916,
             "test": [
              0.4024208016
             ]
            },
            {
             "iteration": 74,
             "learn": [
              0.4045539629
             ],
             "passed_time": 138.1836169,
             "remaining_time": 46.06120563,
             "test": [
              0.4023468024
             ]
            },
            {
             "iteration": 75,
             "learn": [
              0.4044643923
             ],
             "passed_time": 139.8601067,
             "remaining_time": 44.16634948,
             "test": [
              0.4022557068
             ]
            },
            {
             "iteration": 76,
             "learn": [
              0.4043949098
             ],
             "passed_time": 142.0838306,
             "remaining_time": 42.44062473,
             "test": [
              0.4021666191
             ]
            },
            {
             "iteration": 77,
             "learn": [
              0.4043248693
             ],
             "passed_time": 143.7934573,
             "remaining_time": 40.55712897,
             "test": [
              0.4020709476
             ]
            },
            {
             "iteration": 78,
             "learn": [
              0.4042693646
             ],
             "passed_time": 145.9403657,
             "remaining_time": 38.79427444,
             "test": [
              0.4019986012
             ]
            },
            {
             "iteration": 79,
             "learn": [
              0.4041825911
             ],
             "passed_time": 147.8591399,
             "remaining_time": 36.96478497,
             "test": [
              0.401911535
             ]
            },
            {
             "iteration": 80,
             "learn": [
              0.4041244242
             ],
             "passed_time": 149.4160483,
             "remaining_time": 35.04820887,
             "test": [
              0.4018348747
             ]
            },
            {
             "iteration": 81,
             "learn": [
              0.4040623511
             ],
             "passed_time": 150.9632628,
             "remaining_time": 33.13827721,
             "test": [
              0.4017510833
             ]
            },
            {
             "iteration": 82,
             "learn": [
              0.4040020572
             ],
             "passed_time": 152.437797,
             "remaining_time": 31.22219939,
             "test": [
              0.4016806685
             ]
            },
            {
             "iteration": 83,
             "learn": [
              0.4039453562
             ],
             "passed_time": 154.1267072,
             "remaining_time": 29.35746804,
             "test": [
              0.4016147737
             ]
            },
            {
             "iteration": 84,
             "learn": [
              0.403906954
             ],
             "passed_time": 155.6761484,
             "remaining_time": 27.47226148,
             "test": [
              0.4015790443
             ]
            },
            {
             "iteration": 85,
             "learn": [
              0.4038562858
             ],
             "passed_time": 157.8819849,
             "remaining_time": 25.70171847,
             "test": [
              0.4015173081
             ]
            },
            {
             "iteration": 86,
             "learn": [
              0.403790652
             ],
             "passed_time": 159.6443758,
             "remaining_time": 23.85490673,
             "test": [
              0.4014431079
             ]
            },
            {
             "iteration": 87,
             "learn": [
              0.403737411
             ],
             "passed_time": 161.1642792,
             "remaining_time": 21.97694716,
             "test": [
              0.4013850858
             ]
            },
            {
             "iteration": 88,
             "learn": [
              0.4036860152
             ],
             "passed_time": 162.742024,
             "remaining_time": 20.11418274,
             "test": [
              0.4013249973
             ]
            },
            {
             "iteration": 89,
             "learn": [
              0.4036394371
             ],
             "passed_time": 164.3759406,
             "remaining_time": 18.2639934,
             "test": [
              0.4012745879
             ]
            },
            {
             "iteration": 90,
             "learn": [
              0.4035645991
             ],
             "passed_time": 165.9837348,
             "remaining_time": 16.41597377,
             "test": [
              0.4012065122
             ]
            },
            {
             "iteration": 91,
             "learn": [
              0.4035260188
             ],
             "passed_time": 168.5242641,
             "remaining_time": 14.65428383,
             "test": [
              0.4011612893
             ]
            },
            {
             "iteration": 92,
             "learn": [
              0.4034747958
             ],
             "passed_time": 170.1713058,
             "remaining_time": 12.80859291,
             "test": [
              0.4011138542
             ]
            },
            {
             "iteration": 93,
             "learn": [
              0.4034296544
             ],
             "passed_time": 171.7911654,
             "remaining_time": 10.96539354,
             "test": [
              0.4010650896
             ]
            },
            {
             "iteration": 94,
             "learn": [
              0.4033828948
             ],
             "passed_time": 173.7938443,
             "remaining_time": 9.147044439,
             "test": [
              0.4010074057
             ]
            },
            {
             "iteration": 95,
             "learn": [
              0.4033115867
             ],
             "passed_time": 175.5738567,
             "remaining_time": 7.315577363,
             "test": [
              0.4009272671
             ]
            },
            {
             "iteration": 96,
             "learn": [
              0.4032831208
             ],
             "passed_time": 177.2380906,
             "remaining_time": 5.481590431,
             "test": [
              0.4008980458
             ]
            },
            {
             "iteration": 97,
             "learn": [
              0.4032283908
             ],
             "passed_time": 179.462769,
             "remaining_time": 3.662505489,
             "test": [
              0.4008470613
             ]
            },
            {
             "iteration": 98,
             "learn": [
              0.4031986194
             ],
             "passed_time": 181.2091158,
             "remaining_time": 1.830395109,
             "test": [
              0.4008154176
             ]
            },
            {
             "iteration": 99,
             "learn": [
              0.4031429619
             ],
             "passed_time": 182.783505,
             "remaining_time": 0,
             "test": [
              0.4007601313
             ]
            }
           ],
           "meta": {
            "iteration_count": 100,
            "launch_mode": "Train",
            "learn_metrics": [
             {
              "best_value": "Min",
              "name": "Logloss"
             }
            ],
            "learn_sets": [
             "learn"
            ],
            "name": "experiment",
            "parameters": "",
            "test_metrics": [
             {
              "best_value": "Min",
              "name": "Logloss"
             }
            ],
            "test_sets": [
             "test"
            ]
           }
          },
          "passed_iterations": 99,
          "total_iterations": 100
         },
         "name": "catboost_info",
         "path": "catboost_info"
        }
       },
       "layout": "IPY_MODEL_3521757666a34888b1b775bd8492e1f9"
      }
     }
    },
    "version_major": 2,
    "version_minor": 0
   }
  }
 },
 "nbformat": 4,
 "nbformat_minor": 4
}
